{
 "cells": [
  {
   "cell_type": "code",
   "execution_count": 150,
   "metadata": {},
   "outputs": [],
   "source": [
    "from UtilsFunc import dirlistfiles,filterlist\n",
    "from glob import glob\n",
    "import os \n",
    "import pandas as pd\n",
    "import matplotlib.pyplot as plt\n",
    "from skimage import io, exposure\n",
    "#from UtilsViz import *\n",
    "from tqdm import tqdm\n",
    "import pyspatialml\n",
    "\n",
    "\n",
    "from sklearn.model_selection import train_test_split\n",
    "from catboost import CatBoostRegressor\n",
    "import pickle\n",
    "from sklearn.metrics import mean_squared_error, r2_score"
   ]
  },
  {
   "cell_type": "code",
   "execution_count": 151,
   "metadata": {},
   "outputs": [
    {
     "data": {
      "text/plain": [
       "'/media/ljp238/6tb/Joseph/DATASETS/OUT_TILES/1x1degree/N10_E105/patch256x256'"
      ]
     },
     "execution_count": 151,
     "metadata": {},
     "output_type": "execute_result"
    }
   ],
   "source": [
    "pathdir = 'patch256x256'\n",
    "outtiles_dir = '/media/ljp238/6tb/Joseph/DATASETS/OUT_TILES/1x1degree/'\n",
    "tilenames = os.listdir(outtiles_dir)\n",
    "i = 2\n",
    "tile_patches_path = os.path.join(outtiles_dir,tilenames[i],pathdir)\n",
    "tile_patches_path"
   ]
  },
  {
   "cell_type": "code",
   "execution_count": 152,
   "metadata": {},
   "outputs": [
    {
     "name": "stdout",
     "output_type": "stream",
     "text": [
      "subdirectiries included\n",
      "37584\n"
     ]
    }
   ],
   "source": [
    "fs = dirlistfiles(tile_patches_path, 'tif', True)\n",
    "for fi in fs:\n",
    "    fo = fi.replace('..tif','.tif')\n",
    "    os.rename(fi, fo)\n"
   ]
  },
  {
   "cell_type": "code",
   "execution_count": 153,
   "metadata": {},
   "outputs": [],
   "source": [
    "def files_filter_list(flist, k):\n",
    "    f = [i for i in flist if k in i]\n",
    "    print(len(f))\n",
    "    return f"
   ]
  },
  {
   "cell_type": "code",
   "execution_count": 154,
   "metadata": {},
   "outputs": [
    {
     "name": "stdout",
     "output_type": "stream",
     "text": [
      "1296\n",
      "1296\n",
      "1296\n",
      "1296\n",
      "1296\n",
      "1296\n",
      "1296\n",
      "1296\n",
      "1296\n",
      "1296\n",
      "1296\n",
      "1296\n",
      "1296\n",
      "1296\n",
      "1296\n",
      "15\n"
     ]
    }
   ],
   "source": [
    "zdif_files = files_filter_list(fs, 'zdif')\n",
    "lidar_files = files_filter_list(fs, 'LiDAR_MekongDelta_EGM08')\n",
    "\n",
    "txd_files = files_filter_list(fs, 'TDX_DEM_EGM08')\n",
    "cop_files = files_filter_list(fs, 'COP_DEM')\n",
    "merit_files = files_filter_list(fs, 'MERIT_EGM08')\n",
    "nasa_files = files_filter_list(fs, 'NASA_H_EGM08')\n",
    "aw3d_files = files_filter_list(fs, 'AW3D_H_EGM08')\n",
    "\n",
    "egm96_files = files_filter_list(fs, 'emg96')\n",
    "s1_files = files_filter_list(fs, 'S1')\n",
    "s2_files = files_filter_list(fs, 'S2')\n",
    "\n",
    "ethm_files = files_filter_list(fs, 'ETHm')\n",
    "eths_files = files_filter_list(fs, 'ETHs')\n",
    "fnf_files = files_filter_list(fs, 'TDX_FNF')\n",
    "esawc_files = files_filter_list(fs, 'WC')\n",
    "wsf_files = files_filter_list(fs, 'WSF')\n",
    "\n",
    "vnames = ['zdif','lidar','tdx','cop','merit','nasa','aw3d','egm96', 'ethm','eths',\n",
    "          'fnf','esawc','wsf', 's1vv','s1vh','s1a','s2r','s2g','s2b']\n",
    "\n",
    "namefiles = ['zdif','lidar','tdx','cop','merit','nasa','aw3d','egm96', 'ethm','eths',\n",
    "             'fnf','esawc','wsf', 's1','s2']\n",
    "print(len(namefiles))"
   ]
  },
  {
   "cell_type": "code",
   "execution_count": 155,
   "metadata": {},
   "outputs": [],
   "source": [
    "df = pd.DataFrame(list(zip(zdif_files,lidar_files,txd_files,\n",
    "                           cop_files,merit_files,nasa_files,\n",
    "                           aw3d_files,egm96_files,ethm_files,\n",
    "                           eths_files,fnf_files,esawc_files,\n",
    "                           wsf_files,s1_files,s2_files)),\n",
    "                columns=namefiles)\n",
    "#df['index'] = df.index\n",
    "csv_tile_patches_path = os.path.join(tile_patches_path, f'{tilenames[i]}_patches_paths.csv')\n",
    "df.to_csv(csv_tile_patches_path, index=False)"
   ]
  },
  {
   "cell_type": "code",
   "execution_count": 156,
   "metadata": {},
   "outputs": [
    {
     "data": {
      "text/html": [
       "<div>\n",
       "<style scoped>\n",
       "    .dataframe tbody tr th:only-of-type {\n",
       "        vertical-align: middle;\n",
       "    }\n",
       "\n",
       "    .dataframe tbody tr th {\n",
       "        vertical-align: top;\n",
       "    }\n",
       "\n",
       "    .dataframe thead th {\n",
       "        text-align: right;\n",
       "    }\n",
       "</style>\n",
       "<table border=\"1\" class=\"dataframe\">\n",
       "  <thead>\n",
       "    <tr style=\"text-align: right;\">\n",
       "      <th></th>\n",
       "      <th>zdif</th>\n",
       "      <th>lidar</th>\n",
       "      <th>tdx</th>\n",
       "      <th>cop</th>\n",
       "      <th>merit</th>\n",
       "      <th>nasa</th>\n",
       "      <th>aw3d</th>\n",
       "      <th>egm96</th>\n",
       "      <th>ethm</th>\n",
       "      <th>eths</th>\n",
       "      <th>fnf</th>\n",
       "      <th>esawc</th>\n",
       "      <th>wsf</th>\n",
       "      <th>s1</th>\n",
       "      <th>s2</th>\n",
       "    </tr>\n",
       "  </thead>\n",
       "  <tbody>\n",
       "    <tr>\n",
       "      <th>0</th>\n",
       "      <td>/media/ljp238/6tb/Joseph/DATASETS/OUT_TILES/1x...</td>\n",
       "      <td>/media/ljp238/6tb/Joseph/DATASETS/OUT_TILES/1x...</td>\n",
       "      <td>/media/ljp238/6tb/Joseph/DATASETS/OUT_TILES/1x...</td>\n",
       "      <td>/media/ljp238/6tb/Joseph/DATASETS/OUT_TILES/1x...</td>\n",
       "      <td>/media/ljp238/6tb/Joseph/DATASETS/OUT_TILES/1x...</td>\n",
       "      <td>/media/ljp238/6tb/Joseph/DATASETS/OUT_TILES/1x...</td>\n",
       "      <td>/media/ljp238/6tb/Joseph/DATASETS/OUT_TILES/1x...</td>\n",
       "      <td>/media/ljp238/6tb/Joseph/DATASETS/OUT_TILES/1x...</td>\n",
       "      <td>/media/ljp238/6tb/Joseph/DATASETS/OUT_TILES/1x...</td>\n",
       "      <td>/media/ljp238/6tb/Joseph/DATASETS/OUT_TILES/1x...</td>\n",
       "      <td>/media/ljp238/6tb/Joseph/DATASETS/OUT_TILES/1x...</td>\n",
       "      <td>/media/ljp238/6tb/Joseph/DATASETS/OUT_TILES/1x...</td>\n",
       "      <td>/media/ljp238/6tb/Joseph/DATASETS/OUT_TILES/1x...</td>\n",
       "      <td>/media/ljp238/6tb/Joseph/DATASETS/OUT_TILES/1x...</td>\n",
       "      <td>/media/ljp238/6tb/Joseph/DATASETS/OUT_TILES/1x...</td>\n",
       "    </tr>\n",
       "    <tr>\n",
       "      <th>1</th>\n",
       "      <td>/media/ljp238/6tb/Joseph/DATASETS/OUT_TILES/1x...</td>\n",
       "      <td>/media/ljp238/6tb/Joseph/DATASETS/OUT_TILES/1x...</td>\n",
       "      <td>/media/ljp238/6tb/Joseph/DATASETS/OUT_TILES/1x...</td>\n",
       "      <td>/media/ljp238/6tb/Joseph/DATASETS/OUT_TILES/1x...</td>\n",
       "      <td>/media/ljp238/6tb/Joseph/DATASETS/OUT_TILES/1x...</td>\n",
       "      <td>/media/ljp238/6tb/Joseph/DATASETS/OUT_TILES/1x...</td>\n",
       "      <td>/media/ljp238/6tb/Joseph/DATASETS/OUT_TILES/1x...</td>\n",
       "      <td>/media/ljp238/6tb/Joseph/DATASETS/OUT_TILES/1x...</td>\n",
       "      <td>/media/ljp238/6tb/Joseph/DATASETS/OUT_TILES/1x...</td>\n",
       "      <td>/media/ljp238/6tb/Joseph/DATASETS/OUT_TILES/1x...</td>\n",
       "      <td>/media/ljp238/6tb/Joseph/DATASETS/OUT_TILES/1x...</td>\n",
       "      <td>/media/ljp238/6tb/Joseph/DATASETS/OUT_TILES/1x...</td>\n",
       "      <td>/media/ljp238/6tb/Joseph/DATASETS/OUT_TILES/1x...</td>\n",
       "      <td>/media/ljp238/6tb/Joseph/DATASETS/OUT_TILES/1x...</td>\n",
       "      <td>/media/ljp238/6tb/Joseph/DATASETS/OUT_TILES/1x...</td>\n",
       "    </tr>\n",
       "    <tr>\n",
       "      <th>2</th>\n",
       "      <td>/media/ljp238/6tb/Joseph/DATASETS/OUT_TILES/1x...</td>\n",
       "      <td>/media/ljp238/6tb/Joseph/DATASETS/OUT_TILES/1x...</td>\n",
       "      <td>/media/ljp238/6tb/Joseph/DATASETS/OUT_TILES/1x...</td>\n",
       "      <td>/media/ljp238/6tb/Joseph/DATASETS/OUT_TILES/1x...</td>\n",
       "      <td>/media/ljp238/6tb/Joseph/DATASETS/OUT_TILES/1x...</td>\n",
       "      <td>/media/ljp238/6tb/Joseph/DATASETS/OUT_TILES/1x...</td>\n",
       "      <td>/media/ljp238/6tb/Joseph/DATASETS/OUT_TILES/1x...</td>\n",
       "      <td>/media/ljp238/6tb/Joseph/DATASETS/OUT_TILES/1x...</td>\n",
       "      <td>/media/ljp238/6tb/Joseph/DATASETS/OUT_TILES/1x...</td>\n",
       "      <td>/media/ljp238/6tb/Joseph/DATASETS/OUT_TILES/1x...</td>\n",
       "      <td>/media/ljp238/6tb/Joseph/DATASETS/OUT_TILES/1x...</td>\n",
       "      <td>/media/ljp238/6tb/Joseph/DATASETS/OUT_TILES/1x...</td>\n",
       "      <td>/media/ljp238/6tb/Joseph/DATASETS/OUT_TILES/1x...</td>\n",
       "      <td>/media/ljp238/6tb/Joseph/DATASETS/OUT_TILES/1x...</td>\n",
       "      <td>/media/ljp238/6tb/Joseph/DATASETS/OUT_TILES/1x...</td>\n",
       "    </tr>\n",
       "    <tr>\n",
       "      <th>3</th>\n",
       "      <td>/media/ljp238/6tb/Joseph/DATASETS/OUT_TILES/1x...</td>\n",
       "      <td>/media/ljp238/6tb/Joseph/DATASETS/OUT_TILES/1x...</td>\n",
       "      <td>/media/ljp238/6tb/Joseph/DATASETS/OUT_TILES/1x...</td>\n",
       "      <td>/media/ljp238/6tb/Joseph/DATASETS/OUT_TILES/1x...</td>\n",
       "      <td>/media/ljp238/6tb/Joseph/DATASETS/OUT_TILES/1x...</td>\n",
       "      <td>/media/ljp238/6tb/Joseph/DATASETS/OUT_TILES/1x...</td>\n",
       "      <td>/media/ljp238/6tb/Joseph/DATASETS/OUT_TILES/1x...</td>\n",
       "      <td>/media/ljp238/6tb/Joseph/DATASETS/OUT_TILES/1x...</td>\n",
       "      <td>/media/ljp238/6tb/Joseph/DATASETS/OUT_TILES/1x...</td>\n",
       "      <td>/media/ljp238/6tb/Joseph/DATASETS/OUT_TILES/1x...</td>\n",
       "      <td>/media/ljp238/6tb/Joseph/DATASETS/OUT_TILES/1x...</td>\n",
       "      <td>/media/ljp238/6tb/Joseph/DATASETS/OUT_TILES/1x...</td>\n",
       "      <td>/media/ljp238/6tb/Joseph/DATASETS/OUT_TILES/1x...</td>\n",
       "      <td>/media/ljp238/6tb/Joseph/DATASETS/OUT_TILES/1x...</td>\n",
       "      <td>/media/ljp238/6tb/Joseph/DATASETS/OUT_TILES/1x...</td>\n",
       "    </tr>\n",
       "    <tr>\n",
       "      <th>4</th>\n",
       "      <td>/media/ljp238/6tb/Joseph/DATASETS/OUT_TILES/1x...</td>\n",
       "      <td>/media/ljp238/6tb/Joseph/DATASETS/OUT_TILES/1x...</td>\n",
       "      <td>/media/ljp238/6tb/Joseph/DATASETS/OUT_TILES/1x...</td>\n",
       "      <td>/media/ljp238/6tb/Joseph/DATASETS/OUT_TILES/1x...</td>\n",
       "      <td>/media/ljp238/6tb/Joseph/DATASETS/OUT_TILES/1x...</td>\n",
       "      <td>/media/ljp238/6tb/Joseph/DATASETS/OUT_TILES/1x...</td>\n",
       "      <td>/media/ljp238/6tb/Joseph/DATASETS/OUT_TILES/1x...</td>\n",
       "      <td>/media/ljp238/6tb/Joseph/DATASETS/OUT_TILES/1x...</td>\n",
       "      <td>/media/ljp238/6tb/Joseph/DATASETS/OUT_TILES/1x...</td>\n",
       "      <td>/media/ljp238/6tb/Joseph/DATASETS/OUT_TILES/1x...</td>\n",
       "      <td>/media/ljp238/6tb/Joseph/DATASETS/OUT_TILES/1x...</td>\n",
       "      <td>/media/ljp238/6tb/Joseph/DATASETS/OUT_TILES/1x...</td>\n",
       "      <td>/media/ljp238/6tb/Joseph/DATASETS/OUT_TILES/1x...</td>\n",
       "      <td>/media/ljp238/6tb/Joseph/DATASETS/OUT_TILES/1x...</td>\n",
       "      <td>/media/ljp238/6tb/Joseph/DATASETS/OUT_TILES/1x...</td>\n",
       "    </tr>\n",
       "    <tr>\n",
       "      <th>...</th>\n",
       "      <td>...</td>\n",
       "      <td>...</td>\n",
       "      <td>...</td>\n",
       "      <td>...</td>\n",
       "      <td>...</td>\n",
       "      <td>...</td>\n",
       "      <td>...</td>\n",
       "      <td>...</td>\n",
       "      <td>...</td>\n",
       "      <td>...</td>\n",
       "      <td>...</td>\n",
       "      <td>...</td>\n",
       "      <td>...</td>\n",
       "      <td>...</td>\n",
       "      <td>...</td>\n",
       "    </tr>\n",
       "    <tr>\n",
       "      <th>1291</th>\n",
       "      <td>/media/ljp238/6tb/Joseph/DATASETS/OUT_TILES/1x...</td>\n",
       "      <td>/media/ljp238/6tb/Joseph/DATASETS/OUT_TILES/1x...</td>\n",
       "      <td>/media/ljp238/6tb/Joseph/DATASETS/OUT_TILES/1x...</td>\n",
       "      <td>/media/ljp238/6tb/Joseph/DATASETS/OUT_TILES/1x...</td>\n",
       "      <td>/media/ljp238/6tb/Joseph/DATASETS/OUT_TILES/1x...</td>\n",
       "      <td>/media/ljp238/6tb/Joseph/DATASETS/OUT_TILES/1x...</td>\n",
       "      <td>/media/ljp238/6tb/Joseph/DATASETS/OUT_TILES/1x...</td>\n",
       "      <td>/media/ljp238/6tb/Joseph/DATASETS/OUT_TILES/1x...</td>\n",
       "      <td>/media/ljp238/6tb/Joseph/DATASETS/OUT_TILES/1x...</td>\n",
       "      <td>/media/ljp238/6tb/Joseph/DATASETS/OUT_TILES/1x...</td>\n",
       "      <td>/media/ljp238/6tb/Joseph/DATASETS/OUT_TILES/1x...</td>\n",
       "      <td>/media/ljp238/6tb/Joseph/DATASETS/OUT_TILES/1x...</td>\n",
       "      <td>/media/ljp238/6tb/Joseph/DATASETS/OUT_TILES/1x...</td>\n",
       "      <td>/media/ljp238/6tb/Joseph/DATASETS/OUT_TILES/1x...</td>\n",
       "      <td>/media/ljp238/6tb/Joseph/DATASETS/OUT_TILES/1x...</td>\n",
       "    </tr>\n",
       "    <tr>\n",
       "      <th>1292</th>\n",
       "      <td>/media/ljp238/6tb/Joseph/DATASETS/OUT_TILES/1x...</td>\n",
       "      <td>/media/ljp238/6tb/Joseph/DATASETS/OUT_TILES/1x...</td>\n",
       "      <td>/media/ljp238/6tb/Joseph/DATASETS/OUT_TILES/1x...</td>\n",
       "      <td>/media/ljp238/6tb/Joseph/DATASETS/OUT_TILES/1x...</td>\n",
       "      <td>/media/ljp238/6tb/Joseph/DATASETS/OUT_TILES/1x...</td>\n",
       "      <td>/media/ljp238/6tb/Joseph/DATASETS/OUT_TILES/1x...</td>\n",
       "      <td>/media/ljp238/6tb/Joseph/DATASETS/OUT_TILES/1x...</td>\n",
       "      <td>/media/ljp238/6tb/Joseph/DATASETS/OUT_TILES/1x...</td>\n",
       "      <td>/media/ljp238/6tb/Joseph/DATASETS/OUT_TILES/1x...</td>\n",
       "      <td>/media/ljp238/6tb/Joseph/DATASETS/OUT_TILES/1x...</td>\n",
       "      <td>/media/ljp238/6tb/Joseph/DATASETS/OUT_TILES/1x...</td>\n",
       "      <td>/media/ljp238/6tb/Joseph/DATASETS/OUT_TILES/1x...</td>\n",
       "      <td>/media/ljp238/6tb/Joseph/DATASETS/OUT_TILES/1x...</td>\n",
       "      <td>/media/ljp238/6tb/Joseph/DATASETS/OUT_TILES/1x...</td>\n",
       "      <td>/media/ljp238/6tb/Joseph/DATASETS/OUT_TILES/1x...</td>\n",
       "    </tr>\n",
       "    <tr>\n",
       "      <th>1293</th>\n",
       "      <td>/media/ljp238/6tb/Joseph/DATASETS/OUT_TILES/1x...</td>\n",
       "      <td>/media/ljp238/6tb/Joseph/DATASETS/OUT_TILES/1x...</td>\n",
       "      <td>/media/ljp238/6tb/Joseph/DATASETS/OUT_TILES/1x...</td>\n",
       "      <td>/media/ljp238/6tb/Joseph/DATASETS/OUT_TILES/1x...</td>\n",
       "      <td>/media/ljp238/6tb/Joseph/DATASETS/OUT_TILES/1x...</td>\n",
       "      <td>/media/ljp238/6tb/Joseph/DATASETS/OUT_TILES/1x...</td>\n",
       "      <td>/media/ljp238/6tb/Joseph/DATASETS/OUT_TILES/1x...</td>\n",
       "      <td>/media/ljp238/6tb/Joseph/DATASETS/OUT_TILES/1x...</td>\n",
       "      <td>/media/ljp238/6tb/Joseph/DATASETS/OUT_TILES/1x...</td>\n",
       "      <td>/media/ljp238/6tb/Joseph/DATASETS/OUT_TILES/1x...</td>\n",
       "      <td>/media/ljp238/6tb/Joseph/DATASETS/OUT_TILES/1x...</td>\n",
       "      <td>/media/ljp238/6tb/Joseph/DATASETS/OUT_TILES/1x...</td>\n",
       "      <td>/media/ljp238/6tb/Joseph/DATASETS/OUT_TILES/1x...</td>\n",
       "      <td>/media/ljp238/6tb/Joseph/DATASETS/OUT_TILES/1x...</td>\n",
       "      <td>/media/ljp238/6tb/Joseph/DATASETS/OUT_TILES/1x...</td>\n",
       "    </tr>\n",
       "    <tr>\n",
       "      <th>1294</th>\n",
       "      <td>/media/ljp238/6tb/Joseph/DATASETS/OUT_TILES/1x...</td>\n",
       "      <td>/media/ljp238/6tb/Joseph/DATASETS/OUT_TILES/1x...</td>\n",
       "      <td>/media/ljp238/6tb/Joseph/DATASETS/OUT_TILES/1x...</td>\n",
       "      <td>/media/ljp238/6tb/Joseph/DATASETS/OUT_TILES/1x...</td>\n",
       "      <td>/media/ljp238/6tb/Joseph/DATASETS/OUT_TILES/1x...</td>\n",
       "      <td>/media/ljp238/6tb/Joseph/DATASETS/OUT_TILES/1x...</td>\n",
       "      <td>/media/ljp238/6tb/Joseph/DATASETS/OUT_TILES/1x...</td>\n",
       "      <td>/media/ljp238/6tb/Joseph/DATASETS/OUT_TILES/1x...</td>\n",
       "      <td>/media/ljp238/6tb/Joseph/DATASETS/OUT_TILES/1x...</td>\n",
       "      <td>/media/ljp238/6tb/Joseph/DATASETS/OUT_TILES/1x...</td>\n",
       "      <td>/media/ljp238/6tb/Joseph/DATASETS/OUT_TILES/1x...</td>\n",
       "      <td>/media/ljp238/6tb/Joseph/DATASETS/OUT_TILES/1x...</td>\n",
       "      <td>/media/ljp238/6tb/Joseph/DATASETS/OUT_TILES/1x...</td>\n",
       "      <td>/media/ljp238/6tb/Joseph/DATASETS/OUT_TILES/1x...</td>\n",
       "      <td>/media/ljp238/6tb/Joseph/DATASETS/OUT_TILES/1x...</td>\n",
       "    </tr>\n",
       "    <tr>\n",
       "      <th>1295</th>\n",
       "      <td>/media/ljp238/6tb/Joseph/DATASETS/OUT_TILES/1x...</td>\n",
       "      <td>/media/ljp238/6tb/Joseph/DATASETS/OUT_TILES/1x...</td>\n",
       "      <td>/media/ljp238/6tb/Joseph/DATASETS/OUT_TILES/1x...</td>\n",
       "      <td>/media/ljp238/6tb/Joseph/DATASETS/OUT_TILES/1x...</td>\n",
       "      <td>/media/ljp238/6tb/Joseph/DATASETS/OUT_TILES/1x...</td>\n",
       "      <td>/media/ljp238/6tb/Joseph/DATASETS/OUT_TILES/1x...</td>\n",
       "      <td>/media/ljp238/6tb/Joseph/DATASETS/OUT_TILES/1x...</td>\n",
       "      <td>/media/ljp238/6tb/Joseph/DATASETS/OUT_TILES/1x...</td>\n",
       "      <td>/media/ljp238/6tb/Joseph/DATASETS/OUT_TILES/1x...</td>\n",
       "      <td>/media/ljp238/6tb/Joseph/DATASETS/OUT_TILES/1x...</td>\n",
       "      <td>/media/ljp238/6tb/Joseph/DATASETS/OUT_TILES/1x...</td>\n",
       "      <td>/media/ljp238/6tb/Joseph/DATASETS/OUT_TILES/1x...</td>\n",
       "      <td>/media/ljp238/6tb/Joseph/DATASETS/OUT_TILES/1x...</td>\n",
       "      <td>/media/ljp238/6tb/Joseph/DATASETS/OUT_TILES/1x...</td>\n",
       "      <td>/media/ljp238/6tb/Joseph/DATASETS/OUT_TILES/1x...</td>\n",
       "    </tr>\n",
       "  </tbody>\n",
       "</table>\n",
       "<p>1296 rows × 15 columns</p>\n",
       "</div>"
      ],
      "text/plain": [
       "                                                   zdif  \\\n",
       "0     /media/ljp238/6tb/Joseph/DATASETS/OUT_TILES/1x...   \n",
       "1     /media/ljp238/6tb/Joseph/DATASETS/OUT_TILES/1x...   \n",
       "2     /media/ljp238/6tb/Joseph/DATASETS/OUT_TILES/1x...   \n",
       "3     /media/ljp238/6tb/Joseph/DATASETS/OUT_TILES/1x...   \n",
       "4     /media/ljp238/6tb/Joseph/DATASETS/OUT_TILES/1x...   \n",
       "...                                                 ...   \n",
       "1291  /media/ljp238/6tb/Joseph/DATASETS/OUT_TILES/1x...   \n",
       "1292  /media/ljp238/6tb/Joseph/DATASETS/OUT_TILES/1x...   \n",
       "1293  /media/ljp238/6tb/Joseph/DATASETS/OUT_TILES/1x...   \n",
       "1294  /media/ljp238/6tb/Joseph/DATASETS/OUT_TILES/1x...   \n",
       "1295  /media/ljp238/6tb/Joseph/DATASETS/OUT_TILES/1x...   \n",
       "\n",
       "                                                  lidar  \\\n",
       "0     /media/ljp238/6tb/Joseph/DATASETS/OUT_TILES/1x...   \n",
       "1     /media/ljp238/6tb/Joseph/DATASETS/OUT_TILES/1x...   \n",
       "2     /media/ljp238/6tb/Joseph/DATASETS/OUT_TILES/1x...   \n",
       "3     /media/ljp238/6tb/Joseph/DATASETS/OUT_TILES/1x...   \n",
       "4     /media/ljp238/6tb/Joseph/DATASETS/OUT_TILES/1x...   \n",
       "...                                                 ...   \n",
       "1291  /media/ljp238/6tb/Joseph/DATASETS/OUT_TILES/1x...   \n",
       "1292  /media/ljp238/6tb/Joseph/DATASETS/OUT_TILES/1x...   \n",
       "1293  /media/ljp238/6tb/Joseph/DATASETS/OUT_TILES/1x...   \n",
       "1294  /media/ljp238/6tb/Joseph/DATASETS/OUT_TILES/1x...   \n",
       "1295  /media/ljp238/6tb/Joseph/DATASETS/OUT_TILES/1x...   \n",
       "\n",
       "                                                    tdx  \\\n",
       "0     /media/ljp238/6tb/Joseph/DATASETS/OUT_TILES/1x...   \n",
       "1     /media/ljp238/6tb/Joseph/DATASETS/OUT_TILES/1x...   \n",
       "2     /media/ljp238/6tb/Joseph/DATASETS/OUT_TILES/1x...   \n",
       "3     /media/ljp238/6tb/Joseph/DATASETS/OUT_TILES/1x...   \n",
       "4     /media/ljp238/6tb/Joseph/DATASETS/OUT_TILES/1x...   \n",
       "...                                                 ...   \n",
       "1291  /media/ljp238/6tb/Joseph/DATASETS/OUT_TILES/1x...   \n",
       "1292  /media/ljp238/6tb/Joseph/DATASETS/OUT_TILES/1x...   \n",
       "1293  /media/ljp238/6tb/Joseph/DATASETS/OUT_TILES/1x...   \n",
       "1294  /media/ljp238/6tb/Joseph/DATASETS/OUT_TILES/1x...   \n",
       "1295  /media/ljp238/6tb/Joseph/DATASETS/OUT_TILES/1x...   \n",
       "\n",
       "                                                    cop  \\\n",
       "0     /media/ljp238/6tb/Joseph/DATASETS/OUT_TILES/1x...   \n",
       "1     /media/ljp238/6tb/Joseph/DATASETS/OUT_TILES/1x...   \n",
       "2     /media/ljp238/6tb/Joseph/DATASETS/OUT_TILES/1x...   \n",
       "3     /media/ljp238/6tb/Joseph/DATASETS/OUT_TILES/1x...   \n",
       "4     /media/ljp238/6tb/Joseph/DATASETS/OUT_TILES/1x...   \n",
       "...                                                 ...   \n",
       "1291  /media/ljp238/6tb/Joseph/DATASETS/OUT_TILES/1x...   \n",
       "1292  /media/ljp238/6tb/Joseph/DATASETS/OUT_TILES/1x...   \n",
       "1293  /media/ljp238/6tb/Joseph/DATASETS/OUT_TILES/1x...   \n",
       "1294  /media/ljp238/6tb/Joseph/DATASETS/OUT_TILES/1x...   \n",
       "1295  /media/ljp238/6tb/Joseph/DATASETS/OUT_TILES/1x...   \n",
       "\n",
       "                                                  merit  \\\n",
       "0     /media/ljp238/6tb/Joseph/DATASETS/OUT_TILES/1x...   \n",
       "1     /media/ljp238/6tb/Joseph/DATASETS/OUT_TILES/1x...   \n",
       "2     /media/ljp238/6tb/Joseph/DATASETS/OUT_TILES/1x...   \n",
       "3     /media/ljp238/6tb/Joseph/DATASETS/OUT_TILES/1x...   \n",
       "4     /media/ljp238/6tb/Joseph/DATASETS/OUT_TILES/1x...   \n",
       "...                                                 ...   \n",
       "1291  /media/ljp238/6tb/Joseph/DATASETS/OUT_TILES/1x...   \n",
       "1292  /media/ljp238/6tb/Joseph/DATASETS/OUT_TILES/1x...   \n",
       "1293  /media/ljp238/6tb/Joseph/DATASETS/OUT_TILES/1x...   \n",
       "1294  /media/ljp238/6tb/Joseph/DATASETS/OUT_TILES/1x...   \n",
       "1295  /media/ljp238/6tb/Joseph/DATASETS/OUT_TILES/1x...   \n",
       "\n",
       "                                                   nasa  \\\n",
       "0     /media/ljp238/6tb/Joseph/DATASETS/OUT_TILES/1x...   \n",
       "1     /media/ljp238/6tb/Joseph/DATASETS/OUT_TILES/1x...   \n",
       "2     /media/ljp238/6tb/Joseph/DATASETS/OUT_TILES/1x...   \n",
       "3     /media/ljp238/6tb/Joseph/DATASETS/OUT_TILES/1x...   \n",
       "4     /media/ljp238/6tb/Joseph/DATASETS/OUT_TILES/1x...   \n",
       "...                                                 ...   \n",
       "1291  /media/ljp238/6tb/Joseph/DATASETS/OUT_TILES/1x...   \n",
       "1292  /media/ljp238/6tb/Joseph/DATASETS/OUT_TILES/1x...   \n",
       "1293  /media/ljp238/6tb/Joseph/DATASETS/OUT_TILES/1x...   \n",
       "1294  /media/ljp238/6tb/Joseph/DATASETS/OUT_TILES/1x...   \n",
       "1295  /media/ljp238/6tb/Joseph/DATASETS/OUT_TILES/1x...   \n",
       "\n",
       "                                                   aw3d  \\\n",
       "0     /media/ljp238/6tb/Joseph/DATASETS/OUT_TILES/1x...   \n",
       "1     /media/ljp238/6tb/Joseph/DATASETS/OUT_TILES/1x...   \n",
       "2     /media/ljp238/6tb/Joseph/DATASETS/OUT_TILES/1x...   \n",
       "3     /media/ljp238/6tb/Joseph/DATASETS/OUT_TILES/1x...   \n",
       "4     /media/ljp238/6tb/Joseph/DATASETS/OUT_TILES/1x...   \n",
       "...                                                 ...   \n",
       "1291  /media/ljp238/6tb/Joseph/DATASETS/OUT_TILES/1x...   \n",
       "1292  /media/ljp238/6tb/Joseph/DATASETS/OUT_TILES/1x...   \n",
       "1293  /media/ljp238/6tb/Joseph/DATASETS/OUT_TILES/1x...   \n",
       "1294  /media/ljp238/6tb/Joseph/DATASETS/OUT_TILES/1x...   \n",
       "1295  /media/ljp238/6tb/Joseph/DATASETS/OUT_TILES/1x...   \n",
       "\n",
       "                                                  egm96  \\\n",
       "0     /media/ljp238/6tb/Joseph/DATASETS/OUT_TILES/1x...   \n",
       "1     /media/ljp238/6tb/Joseph/DATASETS/OUT_TILES/1x...   \n",
       "2     /media/ljp238/6tb/Joseph/DATASETS/OUT_TILES/1x...   \n",
       "3     /media/ljp238/6tb/Joseph/DATASETS/OUT_TILES/1x...   \n",
       "4     /media/ljp238/6tb/Joseph/DATASETS/OUT_TILES/1x...   \n",
       "...                                                 ...   \n",
       "1291  /media/ljp238/6tb/Joseph/DATASETS/OUT_TILES/1x...   \n",
       "1292  /media/ljp238/6tb/Joseph/DATASETS/OUT_TILES/1x...   \n",
       "1293  /media/ljp238/6tb/Joseph/DATASETS/OUT_TILES/1x...   \n",
       "1294  /media/ljp238/6tb/Joseph/DATASETS/OUT_TILES/1x...   \n",
       "1295  /media/ljp238/6tb/Joseph/DATASETS/OUT_TILES/1x...   \n",
       "\n",
       "                                                   ethm  \\\n",
       "0     /media/ljp238/6tb/Joseph/DATASETS/OUT_TILES/1x...   \n",
       "1     /media/ljp238/6tb/Joseph/DATASETS/OUT_TILES/1x...   \n",
       "2     /media/ljp238/6tb/Joseph/DATASETS/OUT_TILES/1x...   \n",
       "3     /media/ljp238/6tb/Joseph/DATASETS/OUT_TILES/1x...   \n",
       "4     /media/ljp238/6tb/Joseph/DATASETS/OUT_TILES/1x...   \n",
       "...                                                 ...   \n",
       "1291  /media/ljp238/6tb/Joseph/DATASETS/OUT_TILES/1x...   \n",
       "1292  /media/ljp238/6tb/Joseph/DATASETS/OUT_TILES/1x...   \n",
       "1293  /media/ljp238/6tb/Joseph/DATASETS/OUT_TILES/1x...   \n",
       "1294  /media/ljp238/6tb/Joseph/DATASETS/OUT_TILES/1x...   \n",
       "1295  /media/ljp238/6tb/Joseph/DATASETS/OUT_TILES/1x...   \n",
       "\n",
       "                                                   eths  \\\n",
       "0     /media/ljp238/6tb/Joseph/DATASETS/OUT_TILES/1x...   \n",
       "1     /media/ljp238/6tb/Joseph/DATASETS/OUT_TILES/1x...   \n",
       "2     /media/ljp238/6tb/Joseph/DATASETS/OUT_TILES/1x...   \n",
       "3     /media/ljp238/6tb/Joseph/DATASETS/OUT_TILES/1x...   \n",
       "4     /media/ljp238/6tb/Joseph/DATASETS/OUT_TILES/1x...   \n",
       "...                                                 ...   \n",
       "1291  /media/ljp238/6tb/Joseph/DATASETS/OUT_TILES/1x...   \n",
       "1292  /media/ljp238/6tb/Joseph/DATASETS/OUT_TILES/1x...   \n",
       "1293  /media/ljp238/6tb/Joseph/DATASETS/OUT_TILES/1x...   \n",
       "1294  /media/ljp238/6tb/Joseph/DATASETS/OUT_TILES/1x...   \n",
       "1295  /media/ljp238/6tb/Joseph/DATASETS/OUT_TILES/1x...   \n",
       "\n",
       "                                                    fnf  \\\n",
       "0     /media/ljp238/6tb/Joseph/DATASETS/OUT_TILES/1x...   \n",
       "1     /media/ljp238/6tb/Joseph/DATASETS/OUT_TILES/1x...   \n",
       "2     /media/ljp238/6tb/Joseph/DATASETS/OUT_TILES/1x...   \n",
       "3     /media/ljp238/6tb/Joseph/DATASETS/OUT_TILES/1x...   \n",
       "4     /media/ljp238/6tb/Joseph/DATASETS/OUT_TILES/1x...   \n",
       "...                                                 ...   \n",
       "1291  /media/ljp238/6tb/Joseph/DATASETS/OUT_TILES/1x...   \n",
       "1292  /media/ljp238/6tb/Joseph/DATASETS/OUT_TILES/1x...   \n",
       "1293  /media/ljp238/6tb/Joseph/DATASETS/OUT_TILES/1x...   \n",
       "1294  /media/ljp238/6tb/Joseph/DATASETS/OUT_TILES/1x...   \n",
       "1295  /media/ljp238/6tb/Joseph/DATASETS/OUT_TILES/1x...   \n",
       "\n",
       "                                                  esawc  \\\n",
       "0     /media/ljp238/6tb/Joseph/DATASETS/OUT_TILES/1x...   \n",
       "1     /media/ljp238/6tb/Joseph/DATASETS/OUT_TILES/1x...   \n",
       "2     /media/ljp238/6tb/Joseph/DATASETS/OUT_TILES/1x...   \n",
       "3     /media/ljp238/6tb/Joseph/DATASETS/OUT_TILES/1x...   \n",
       "4     /media/ljp238/6tb/Joseph/DATASETS/OUT_TILES/1x...   \n",
       "...                                                 ...   \n",
       "1291  /media/ljp238/6tb/Joseph/DATASETS/OUT_TILES/1x...   \n",
       "1292  /media/ljp238/6tb/Joseph/DATASETS/OUT_TILES/1x...   \n",
       "1293  /media/ljp238/6tb/Joseph/DATASETS/OUT_TILES/1x...   \n",
       "1294  /media/ljp238/6tb/Joseph/DATASETS/OUT_TILES/1x...   \n",
       "1295  /media/ljp238/6tb/Joseph/DATASETS/OUT_TILES/1x...   \n",
       "\n",
       "                                                    wsf  \\\n",
       "0     /media/ljp238/6tb/Joseph/DATASETS/OUT_TILES/1x...   \n",
       "1     /media/ljp238/6tb/Joseph/DATASETS/OUT_TILES/1x...   \n",
       "2     /media/ljp238/6tb/Joseph/DATASETS/OUT_TILES/1x...   \n",
       "3     /media/ljp238/6tb/Joseph/DATASETS/OUT_TILES/1x...   \n",
       "4     /media/ljp238/6tb/Joseph/DATASETS/OUT_TILES/1x...   \n",
       "...                                                 ...   \n",
       "1291  /media/ljp238/6tb/Joseph/DATASETS/OUT_TILES/1x...   \n",
       "1292  /media/ljp238/6tb/Joseph/DATASETS/OUT_TILES/1x...   \n",
       "1293  /media/ljp238/6tb/Joseph/DATASETS/OUT_TILES/1x...   \n",
       "1294  /media/ljp238/6tb/Joseph/DATASETS/OUT_TILES/1x...   \n",
       "1295  /media/ljp238/6tb/Joseph/DATASETS/OUT_TILES/1x...   \n",
       "\n",
       "                                                     s1  \\\n",
       "0     /media/ljp238/6tb/Joseph/DATASETS/OUT_TILES/1x...   \n",
       "1     /media/ljp238/6tb/Joseph/DATASETS/OUT_TILES/1x...   \n",
       "2     /media/ljp238/6tb/Joseph/DATASETS/OUT_TILES/1x...   \n",
       "3     /media/ljp238/6tb/Joseph/DATASETS/OUT_TILES/1x...   \n",
       "4     /media/ljp238/6tb/Joseph/DATASETS/OUT_TILES/1x...   \n",
       "...                                                 ...   \n",
       "1291  /media/ljp238/6tb/Joseph/DATASETS/OUT_TILES/1x...   \n",
       "1292  /media/ljp238/6tb/Joseph/DATASETS/OUT_TILES/1x...   \n",
       "1293  /media/ljp238/6tb/Joseph/DATASETS/OUT_TILES/1x...   \n",
       "1294  /media/ljp238/6tb/Joseph/DATASETS/OUT_TILES/1x...   \n",
       "1295  /media/ljp238/6tb/Joseph/DATASETS/OUT_TILES/1x...   \n",
       "\n",
       "                                                     s2  \n",
       "0     /media/ljp238/6tb/Joseph/DATASETS/OUT_TILES/1x...  \n",
       "1     /media/ljp238/6tb/Joseph/DATASETS/OUT_TILES/1x...  \n",
       "2     /media/ljp238/6tb/Joseph/DATASETS/OUT_TILES/1x...  \n",
       "3     /media/ljp238/6tb/Joseph/DATASETS/OUT_TILES/1x...  \n",
       "4     /media/ljp238/6tb/Joseph/DATASETS/OUT_TILES/1x...  \n",
       "...                                                 ...  \n",
       "1291  /media/ljp238/6tb/Joseph/DATASETS/OUT_TILES/1x...  \n",
       "1292  /media/ljp238/6tb/Joseph/DATASETS/OUT_TILES/1x...  \n",
       "1293  /media/ljp238/6tb/Joseph/DATASETS/OUT_TILES/1x...  \n",
       "1294  /media/ljp238/6tb/Joseph/DATASETS/OUT_TILES/1x...  \n",
       "1295  /media/ljp238/6tb/Joseph/DATASETS/OUT_TILES/1x...  \n",
       "\n",
       "[1296 rows x 15 columns]"
      ]
     },
     "execution_count": 156,
     "metadata": {},
     "output_type": "execute_result"
    }
   ],
   "source": [
    "df"
   ]
  },
  {
   "attachments": {},
   "cell_type": "markdown",
   "metadata": {},
   "source": [
    "## b2"
   ]
  },
  {
   "cell_type": "code",
   "execution_count": 190,
   "metadata": {},
   "outputs": [],
   "source": [
    "def generate_random_indices(t,N=180):\n",
    "    import numpy as np \n",
    "    np.random.seed(t.shape[0])\n",
    "    if N is not None:\n",
    "        N = int(N + N*0.2)\n",
    "        indices = np.random.randint(1, t.shape[0], size = N)\n",
    "        print(len(indices))\n",
    "    else:\n",
    "        indices = np.random.randint(1, t.shape[0], size = t.shape[0])\n",
    "        print(len(indices))\n",
    "\n",
    "    total_length = len(indices)\n",
    "    proportions = [0.7, 0.2, 0.1]\n",
    "    sublist_lengths = [int(total_length * prop) for prop in proportions]\n",
    "    train = indices[:sublist_lengths[0]]\n",
    "    valid = indices[sublist_lengths[0]:sublist_lengths[0]+sublist_lengths[1]]\n",
    "    test = indices[sublist_lengths[0]+sublist_lengths[1]:]\n",
    "\n",
    "    \n",
    "    print('train:', len(train))\n",
    "    print('valid:', len(valid))\n",
    "    print('test :', len(test))\n",
    "\n",
    "    return list(train), list(valid), list(test)\n",
    "\n",
    "def get_idx_batch_paths(t,idx):\n",
    "    one_patch_paths = t.iloc[idx:idx+1,].values[0].tolist()\n",
    "    return one_patch_paths"
   ]
  },
  {
   "cell_type": "code",
   "execution_count": 188,
   "metadata": {},
   "outputs": [
    {
     "name": "stdout",
     "output_type": "stream",
     "text": [
      "5\n"
     ]
    },
    {
     "data": {
      "text/plain": [
       "'/media/ljp238/6tb/Joseph/DATASETS/OUT_TILES/1x1degree/N10_E105/patch256x256/N10_E105_patches_paths.csv'"
      ]
     },
     "execution_count": 188,
     "metadata": {},
     "output_type": "execute_result"
    }
   ],
   "source": [
    "path = '/media/ljp238/6tb/Joseph/DATASETS/OUT_TILES/1x1degree/'\n",
    "fs = sorted(glob(f'{path}/*//**//*_patches_paths.csv', recursive=True)); print(len(fs))\n",
    "fs[-2]"
   ]
  },
  {
   "cell_type": "code",
   "execution_count": 186,
   "metadata": {},
   "outputs": [
    {
     "data": {
      "text/plain": [
       "['/media/ljp238/6tb/Joseph/DATASETS/OUT_TILES/1x1degree/N09_E105/patch256x256/N09_E105_patches_paths.csv',\n",
       " '/media/ljp238/6tb/Joseph/DATASETS/OUT_TILES/1x1degree/N10_E106/patch256x256/N10_E106_patches_paths.csv',\n",
       " '/media/ljp238/6tb/Joseph/DATASETS/OUT_TILES/1x1degree/N10_E105/patch256x256/N10_E105_patches_paths.csv',\n",
       " '/media/ljp238/6tb/Joseph/DATASETS/OUT_TILES/1x1degree/N10_E104/patch256x256/N10_E104_patches_paths.csv',\n",
       " '/media/ljp238/6tb/Joseph/DATASETS/OUT_TILES/1x1degree/N09_E106/patch256x256/N09_E106_patches_paths.csv']"
      ]
     },
     "execution_count": 186,
     "metadata": {},
     "output_type": "execute_result"
    }
   ],
   "source": [
    "fs"
   ]
  },
  {
   "cell_type": "code",
   "execution_count": null,
   "metadata": {},
   "outputs": [],
   "source": []
  },
  {
   "cell_type": "code",
   "execution_count": 157,
   "metadata": {},
   "outputs": [],
   "source": [
    "\n",
    "\n",
    "idx = 104"
   ]
  },
  {
   "cell_type": "code",
   "execution_count": 158,
   "metadata": {},
   "outputs": [],
   "source": [
    "idx_patch_paths = get_idx_batch_paths(df,idx)"
   ]
  },
  {
   "cell_type": "code",
   "execution_count": 159,
   "metadata": {},
   "outputs": [
    {
     "data": {
      "text/plain": [
       "['/media/ljp238/6tb/Joseph/DATASETS/OUT_TILES/1x1degree/N10_E105/patch256x256/N10_E105_zdif/tile_1280_8192.tif',\n",
       " '/media/ljp238/6tb/Joseph/DATASETS/OUT_TILES/1x1degree/N10_E105/patch256x256/N10_E105_LiDAR_MekongDelta_EGM08/tile_1280_8192.tif',\n",
       " '/media/ljp238/6tb/Joseph/DATASETS/OUT_TILES/1x1degree/N10_E105/patch256x256/N10_E105_TDX_DEM_EGM08/tile_1280_8192.tif',\n",
       " '/media/ljp238/6tb/Joseph/DATASETS/OUT_TILES/1x1degree/N10_E105/patch256x256/N10_E105_COP_DEM/tile_1280_8192.tif',\n",
       " '/media/ljp238/6tb/Joseph/DATASETS/OUT_TILES/1x1degree/N10_E105/patch256x256/N10_E105_MERIT_EGM08/tile_1280_8192.tif',\n",
       " '/media/ljp238/6tb/Joseph/DATASETS/OUT_TILES/1x1degree/N10_E105/patch256x256/N10_E105_NASA_H_EGM08/tile_1280_8192.tif',\n",
       " '/media/ljp238/6tb/Joseph/DATASETS/OUT_TILES/1x1degree/N10_E105/patch256x256/N10_E105_AW3D_H_EGM08/tile_1280_8192.tif',\n",
       " '/media/ljp238/6tb/Joseph/DATASETS/OUT_TILES/1x1degree/N10_E105/patch256x256/N10_E105_emg96/tile_1280_8192.tif',\n",
       " '/media/ljp238/6tb/Joseph/DATASETS/OUT_TILES/1x1degree/N10_E105/patch256x256/N10_E105_ETHm/tile_1280_8192.tif',\n",
       " '/media/ljp238/6tb/Joseph/DATASETS/OUT_TILES/1x1degree/N10_E105/patch256x256/N10_E105_ETHs/tile_1280_8192.tif',\n",
       " '/media/ljp238/6tb/Joseph/DATASETS/OUT_TILES/1x1degree/N10_E105/patch256x256/N10_E105_TDX_FNF/tile_1280_8192.tif',\n",
       " '/media/ljp238/6tb/Joseph/DATASETS/OUT_TILES/1x1degree/N10_E105/patch256x256/N10_E105_WC/tile_1280_8192.tif',\n",
       " '/media/ljp238/6tb/Joseph/DATASETS/OUT_TILES/1x1degree/N10_E105/patch256x256/N10_E105_WSF/tile_1280_8192.tif',\n",
       " '/media/ljp238/6tb/Joseph/DATASETS/OUT_TILES/1x1degree/N10_E105/patch256x256/N10_E105_S1/tile_1280_8192.tif',\n",
       " '/media/ljp238/6tb/Joseph/DATASETS/OUT_TILES/1x1degree/N10_E105/patch256x256/N10_E105_S2/tile_1280_8192.tif']"
      ]
     },
     "execution_count": 159,
     "metadata": {},
     "output_type": "execute_result"
    }
   ],
   "source": [
    "idx_patch_paths"
   ]
  },
  {
   "cell_type": "code",
   "execution_count": 160,
   "metadata": {},
   "outputs": [],
   "source": []
  },
  {
   "cell_type": "code",
   "execution_count": 161,
   "metadata": {},
   "outputs": [
    {
     "name": "stdout",
     "output_type": "stream",
     "text": [
      "216\n",
      "train: 151\n",
      "valid: 43\n",
      "test : 22\n"
     ]
    }
   ],
   "source": [
    "train_indices,valid_indices,test_indices = generate_random_indices(df)"
   ]
  },
  {
   "cell_type": "code",
   "execution_count": 162,
   "metadata": {},
   "outputs": [],
   "source": [
    "def get_idx_batch_pathslist(idx_patch_paths):\n",
    "    zdif_files = files_filter_list(idx_patch_paths, 'zdif')[0]\n",
    "    lidar_files = files_filter_list(idx_patch_paths, 'LiDAR_MekongDelta_EGM08')[0]\n",
    "\n",
    "    txd_files = files_filter_list(idx_patch_paths, 'TDX_DEM_EGM08')[0]\n",
    "    cop_files = files_filter_list(idx_patch_paths, 'COP_DEM')[0]\n",
    "    merit_files = files_filter_list(idx_patch_paths, 'MERIT_EGM08')[0]\n",
    "    nasa_files = files_filter_list(idx_patch_paths, 'NASA_H_EGM08')[0]\n",
    "    aw3d_files = files_filter_list(idx_patch_paths, 'AW3D_H_EGM08')[0]\n",
    "\n",
    "    egm96_files = files_filter_list(idx_patch_paths, 'emg96')[0]\n",
    "    s1_files = files_filter_list(idx_patch_paths, 'S1')[0]\n",
    "    s2_files = files_filter_list(idx_patch_paths, 'S2')[0]\n",
    "\n",
    "    ethm_files = files_filter_list(idx_patch_paths, 'ETHm')[0]\n",
    "    eths_files = files_filter_list(idx_patch_paths, 'ETHs')[0]\n",
    "    fnf_files = files_filter_list(idx_patch_paths, 'TDX_FNF')[0]\n",
    "    esawc_files = files_filter_list(idx_patch_paths, 'WC')[0]\n",
    "    wsf_files = files_filter_list(idx_patch_paths, 'WSF')[0]\n",
    "\n",
    "    numpaths = [zdif_files,lidar_files,txd_files,cop_files,merit_files,\n",
    "                 nasa_files,aw3d_files,s2_files]#,s1_files]\n",
    "    numnames = ['zdif', 'lidar', 'tdx', 'cop', 'merit', 'nasa', 'aw3d', 's2']#, 's1']\n",
    "    catnames = ['ethm', 'eths', 'fnf', 'esawc', 'wsf']\n",
    "    catpaths = [ethm_files,eths_files,fnf_files,esawc_files,wsf_files]\n",
    "    \n",
    "    return numnames, numpaths #,catnames,catpaths\n",
    "\n",
    "def get_idx_batch_paths_names_41D(idx_patch_paths):\n",
    "    zdif_files = files_filter_list(idx_patch_paths, 'zdif')[0]\n",
    "    lidar_files = files_filter_list(idx_patch_paths, 'LiDAR_MekongDelta_EGM08')[0]\n",
    "\n",
    "    txd_files = files_filter_list(idx_patch_paths, 'TDX_DEM_EGM08')[0]\n",
    "    cop_files = files_filter_list(idx_patch_paths, 'COP_DEM')[0]\n",
    "    merit_files = files_filter_list(idx_patch_paths, 'MERIT_EGM08')[0]\n",
    "    nasa_files = files_filter_list(idx_patch_paths, 'NASA_H_EGM08')[0]\n",
    "    aw3d_files = files_filter_list(idx_patch_paths, 'AW3D_H_EGM08')[0]\n",
    "\n",
    "    egm96_files = files_filter_list(idx_patch_paths, 'emg96')[0]\n",
    "    s1_files = files_filter_list(idx_patch_paths, 'S1')[0]\n",
    "    s2_files = files_filter_list(idx_patch_paths, 'S2')[0]\n",
    "\n",
    "    ethm_files = files_filter_list(idx_patch_paths, 'ETHm')[0]\n",
    "    eths_files = files_filter_list(idx_patch_paths, 'ETHs')[0]\n",
    "    fnf_files = files_filter_list(idx_patch_paths, 'TDX_FNF')[0]\n",
    "    esawc_files = files_filter_list(idx_patch_paths, 'WC')[0]\n",
    "    wsf_files = files_filter_list(idx_patch_paths, 'WSF')[0]\n",
    "\n",
    "    numpaths = [zdif_files,lidar_files,txd_files,cop_files,merit_files,\n",
    "                 nasa_files,aw3d_files,s2_files]#,s1_files]\n",
    "    numnames = ['zdif', 'lidar', 'tdx', 'cop', 'merit', 'nasa', 'aw3d', 's2r','s2g','s2b']#, 's1']\n",
    "    return numnames, numpaths "
   ]
  },
  {
   "cell_type": "code",
   "execution_count": 192,
   "metadata": {},
   "outputs": [
    {
     "data": {
      "text/plain": [
       "'/media/ljp238/6tb/Joseph/DATASETS/OUT_TILES/1x1degree/N10_E105/patch256x256/N10_E105_patches_paths.csv'"
      ]
     },
     "execution_count": 192,
     "metadata": {},
     "output_type": "execute_result"
    }
   ],
   "source": [
    "fs = sorted(glob(f'{path}/*//**//*_patches_paths.csv', recursive=True))\n",
    "csv_tile_patches_path  = fs[-2] \n",
    "csv_tile_patches_path"
   ]
  },
  {
   "cell_type": "code",
   "execution_count": 195,
   "metadata": {},
   "outputs": [],
   "source": [
    "R, H = os.path.split(csv_tile_patches_path)\n",
    "outproc = os.path.join(R, 'outproc')\n",
    "os.makedirs(outproc, exist_ok=True)"
   ]
  },
  {
   "cell_type": "code",
   "execution_count": 206,
   "metadata": {},
   "outputs": [
    {
     "name": "stdout",
     "output_type": "stream",
     "text": [
      "120\n",
      "train: 84\n",
      "valid: 24\n",
      "test : 12\n"
     ]
    }
   ],
   "source": [
    "idx = 23 #@\n",
    "Nsize = 100 #@\n",
    "t = pd.read_csv(csv_tile_patches_path) #@\n",
    "outproc ='/media/ljp238/6tb/Joseph/DATASETS/OUT_TILES/1x1degree/N10_E105/patch256x256/outproc/' #@\n",
    "train_indices,valid_indices,test_indices = generate_random_indices(t,Nsize)\n",
    "nsample_dirpath = os.path.join(outproc, f'Train{Nsize}patches')\n",
    "#print(nsample_dirpath)\n",
    "os.makedirs(nsample_dirpath, exist_ok=True)\n",
    "\n",
    "# read to make visualization context S2RGB, and S1 :: water mask with S1"
   ]
  },
  {
   "cell_type": "code",
   "execution_count": null,
   "metadata": {},
   "outputs": [],
   "source": []
  },
  {
   "cell_type": "code",
   "execution_count": 164,
   "metadata": {},
   "outputs": [],
   "source": [
    "def write_idxpatch_to_dfparquet(t,idx, nsample_dirpath):\n",
    "    idx_patch_paths = get_idx_batch_paths(t,idx)\n",
    "    numnames, numpaths = get_idx_batch_paths_names_41D(idx_patch_paths)\n",
    "    s = pyspatialml.Raster(numpaths)\n",
    "    s.names = numnames\n",
    "    bname = os.path.basename(numpaths[0])[:-4] + f'_idx{idx}.parquet'\n",
    "    fparquet = os.path.join(nsample_dirpath, bname)\n",
    "   # fgpkg = fparquet.replace('.parquet', '.gpkg')\n",
    "    ds = s.to_pandas()\n",
    "    ds['id'] = str(idx)\n",
    "    ds.to_parquet(fparquet, index=False)\n",
    "    del s \n",
    "    print(idx)\n",
    "    print(fparquet)\n",
    "    return ds\n",
    "\n",
    "def load_data_byindices(indices,t, nsample_dirpath):\n",
    "    dfs = [write_idxpatch_to_dfparquet(t,idx, nsample_dirpath) for idx in indices]\n",
    "    di = pd.concat(dfs)\n",
    "    return di \n",
    "\n",
    "def split_train_valid(df, tsize=0.15):\n",
    "    trainx, validx, trainy, validy = train_test_split(df.drop(['zdif'], axis=1), \n",
    "                                                  df['zdif'],\n",
    "                                                  shuffle= True,\n",
    "                                                  test_size=tsize)\n",
    "\n",
    "\n",
    "    print(trainx.shape, trainy.shape)\n",
    "    print(validx.shape, validy.shape)\n",
    "    return trainx, validx, trainy, validy \n",
    "    \n",
    "acols = ['x', 'y', 'zdif', 'lidar', 'tdx', 'cop', 'merit', 'nasa', 'aw3d', 's2r','s2g', 's2b', 'id']\n",
    "rcv_cols = ['zdif', 'cop', 'merit', 'nasa', 'aw3d', 's2r','s2g', 's2b']"
   ]
  },
  {
   "cell_type": "code",
   "execution_count": 165,
   "metadata": {},
   "outputs": [
    {
     "name": "stdout",
     "output_type": "stream",
     "text": [
      "\u001b[0;31mSignature:\u001b[0m \u001b[0mget_idx_batch_paths\u001b[0m\u001b[0;34m(\u001b[0m\u001b[0mt\u001b[0m\u001b[0;34m,\u001b[0m \u001b[0midx\u001b[0m\u001b[0;34m)\u001b[0m\u001b[0;34m\u001b[0m\u001b[0;34m\u001b[0m\u001b[0m\n",
      "\u001b[0;31mDocstring:\u001b[0m <no docstring>\n",
      "\u001b[0;31mSource:\u001b[0m   \n",
      "\u001b[0;32mdef\u001b[0m \u001b[0mget_idx_batch_paths\u001b[0m\u001b[0;34m(\u001b[0m\u001b[0mt\u001b[0m\u001b[0;34m,\u001b[0m\u001b[0midx\u001b[0m\u001b[0;34m)\u001b[0m\u001b[0;34m:\u001b[0m\u001b[0;34m\u001b[0m\n",
      "\u001b[0;34m\u001b[0m    \u001b[0mone_patch_paths\u001b[0m \u001b[0;34m=\u001b[0m \u001b[0mt\u001b[0m\u001b[0;34m.\u001b[0m\u001b[0miloc\u001b[0m\u001b[0;34m[\u001b[0m\u001b[0midx\u001b[0m\u001b[0;34m:\u001b[0m\u001b[0midx\u001b[0m\u001b[0;34m+\u001b[0m\u001b[0;36m1\u001b[0m\u001b[0;34m,\u001b[0m\u001b[0;34m]\u001b[0m\u001b[0;34m.\u001b[0m\u001b[0mvalues\u001b[0m\u001b[0;34m[\u001b[0m\u001b[0;36m0\u001b[0m\u001b[0;34m]\u001b[0m\u001b[0;34m.\u001b[0m\u001b[0mtolist\u001b[0m\u001b[0;34m(\u001b[0m\u001b[0;34m)\u001b[0m\u001b[0;34m\u001b[0m\n",
      "\u001b[0;34m\u001b[0m    \u001b[0;32mreturn\u001b[0m \u001b[0mone_patch_paths\u001b[0m\u001b[0;34m\u001b[0m\u001b[0;34m\u001b[0m\u001b[0m\n",
      "\u001b[0;31mFile:\u001b[0m      /tmp/ipykernel_1834585/3391687888.py\n",
      "\u001b[0;31mType:\u001b[0m      function"
     ]
    }
   ],
   "source": [
    "get_idx_batch_paths??"
   ]
  },
  {
   "cell_type": "code",
   "execution_count": null,
   "metadata": {},
   "outputs": [],
   "source": [
    "traindf = load_data_byindices(train_indices,t, nsample_dirpath)\n",
    "#validdf = load_data_byindices(valid_indices,numnames, numpaths, nsample_dirpath)\n",
    "#testdf = load_data_byindices(test_indices,numnames, numpaths, nsample_dirpath)\n",
    "\n"
   ]
  },
  {
   "cell_type": "code",
   "execution_count": 167,
   "metadata": {},
   "outputs": [],
   "source": [
    "import numpy as np "
   ]
  },
  {
   "cell_type": "code",
   "execution_count": 168,
   "metadata": {},
   "outputs": [
    {
     "data": {
      "text/plain": [
       "zdif     0\n",
       "cop      0\n",
       "merit    0\n",
       "nasa     0\n",
       "aw3d     0\n",
       "s2r      0\n",
       "s2g      0\n",
       "s2b      0\n",
       "dtype: int64"
      ]
     },
     "execution_count": 168,
     "metadata": {},
     "output_type": "execute_result"
    }
   ],
   "source": [
    "df = traindf[rcv_cols]\n",
    "df = df[df.zdif >= np.min(df.cop)-1] # use copernicus to filter low and high values or lidar ## apply to 2D too\n",
    "df = df[df.zdif <= np.max(df.cop)+1] # 100\n",
    "dx = df.copy()\n",
    "dx = dx.dropna()\n",
    "dx.isna().sum()\n",
    "\n",
    "# check if this pixel being removed are truly noisy\n",
    "# check the extrapolation \n",
    "# build a pipeline for copernicus : global terrain "
   ]
  },
  {
   "cell_type": "code",
   "execution_count": 169,
   "metadata": {},
   "outputs": [
    {
     "data": {
      "text/html": [
       "<div>\n",
       "<style scoped>\n",
       "    .dataframe tbody tr th:only-of-type {\n",
       "        vertical-align: middle;\n",
       "    }\n",
       "\n",
       "    .dataframe tbody tr th {\n",
       "        vertical-align: top;\n",
       "    }\n",
       "\n",
       "    .dataframe thead th {\n",
       "        text-align: right;\n",
       "    }\n",
       "</style>\n",
       "<table border=\"1\" class=\"dataframe\">\n",
       "  <thead>\n",
       "    <tr style=\"text-align: right;\">\n",
       "      <th></th>\n",
       "      <th>count</th>\n",
       "      <th>mean</th>\n",
       "      <th>std</th>\n",
       "      <th>min</th>\n",
       "      <th>25%</th>\n",
       "      <th>50%</th>\n",
       "      <th>75%</th>\n",
       "      <th>max</th>\n",
       "    </tr>\n",
       "  </thead>\n",
       "  <tbody>\n",
       "    <tr>\n",
       "      <th>zdif</th>\n",
       "      <td>45715400.0</td>\n",
       "      <td>1.254937e+00</td>\n",
       "      <td>2.153655e+00</td>\n",
       "      <td>-14.487415</td>\n",
       "      <td>0.441187</td>\n",
       "      <td>0.724891</td>\n",
       "      <td>1.528829</td>\n",
       "      <td>3.368354e+02</td>\n",
       "    </tr>\n",
       "    <tr>\n",
       "      <th>cop</th>\n",
       "      <td>45715400.0</td>\n",
       "      <td>3.687140e+00</td>\n",
       "      <td>1.264900e+01</td>\n",
       "      <td>-13.487518</td>\n",
       "      <td>1.903518</td>\n",
       "      <td>2.393340</td>\n",
       "      <td>3.467498</td>\n",
       "      <td>5.907065e+02</td>\n",
       "    </tr>\n",
       "    <tr>\n",
       "      <th>merit</th>\n",
       "      <td>45715400.0</td>\n",
       "      <td>1.339829e+32</td>\n",
       "      <td>2.135228e+35</td>\n",
       "      <td>-9.224587</td>\n",
       "      <td>2.909314</td>\n",
       "      <td>3.549895</td>\n",
       "      <td>4.230926</td>\n",
       "      <td>3.402823e+38</td>\n",
       "    </tr>\n",
       "    <tr>\n",
       "      <th>nasa</th>\n",
       "      <td>45715400.0</td>\n",
       "      <td>3.017763e+00</td>\n",
       "      <td>1.279840e+01</td>\n",
       "      <td>-44.380138</td>\n",
       "      <td>0.602493</td>\n",
       "      <td>2.043895</td>\n",
       "      <td>3.681893</td>\n",
       "      <td>5.895323e+02</td>\n",
       "    </tr>\n",
       "    <tr>\n",
       "      <th>aw3d</th>\n",
       "      <td>45715400.0</td>\n",
       "      <td>3.895888e+00</td>\n",
       "      <td>1.265014e+01</td>\n",
       "      <td>-46.227753</td>\n",
       "      <td>1.620298</td>\n",
       "      <td>2.944543</td>\n",
       "      <td>4.535709</td>\n",
       "      <td>5.792883e+02</td>\n",
       "    </tr>\n",
       "    <tr>\n",
       "      <th>s2r</th>\n",
       "      <td>45715400.0</td>\n",
       "      <td>6.560725e-02</td>\n",
       "      <td>3.755638e-02</td>\n",
       "      <td>-0.000707</td>\n",
       "      <td>0.043448</td>\n",
       "      <td>0.056431</td>\n",
       "      <td>0.074907</td>\n",
       "      <td>1.079650e+00</td>\n",
       "    </tr>\n",
       "    <tr>\n",
       "      <th>s2g</th>\n",
       "      <td>45715400.0</td>\n",
       "      <td>7.832066e-02</td>\n",
       "      <td>3.078136e-02</td>\n",
       "      <td>-0.000598</td>\n",
       "      <td>0.063260</td>\n",
       "      <td>0.071945</td>\n",
       "      <td>0.083673</td>\n",
       "      <td>1.053784e+00</td>\n",
       "    </tr>\n",
       "    <tr>\n",
       "      <th>s2b</th>\n",
       "      <td>45715400.0</td>\n",
       "      <td>4.612614e-02</td>\n",
       "      <td>3.151475e-02</td>\n",
       "      <td>-0.000445</td>\n",
       "      <td>0.030358</td>\n",
       "      <td>0.038408</td>\n",
       "      <td>0.050057</td>\n",
       "      <td>1.070776e+00</td>\n",
       "    </tr>\n",
       "  </tbody>\n",
       "</table>\n",
       "</div>"
      ],
      "text/plain": [
       "            count          mean           std        min       25%       50%  \\\n",
       "zdif   45715400.0  1.254937e+00  2.153655e+00 -14.487415  0.441187  0.724891   \n",
       "cop    45715400.0  3.687140e+00  1.264900e+01 -13.487518  1.903518  2.393340   \n",
       "merit  45715400.0  1.339829e+32  2.135228e+35  -9.224587  2.909314  3.549895   \n",
       "nasa   45715400.0  3.017763e+00  1.279840e+01 -44.380138  0.602493  2.043895   \n",
       "aw3d   45715400.0  3.895888e+00  1.265014e+01 -46.227753  1.620298  2.944543   \n",
       "s2r    45715400.0  6.560725e-02  3.755638e-02  -0.000707  0.043448  0.056431   \n",
       "s2g    45715400.0  7.832066e-02  3.078136e-02  -0.000598  0.063260  0.071945   \n",
       "s2b    45715400.0  4.612614e-02  3.151475e-02  -0.000445  0.030358  0.038408   \n",
       "\n",
       "            75%           max  \n",
       "zdif   1.528829  3.368354e+02  \n",
       "cop    3.467498  5.907065e+02  \n",
       "merit  4.230926  3.402823e+38  \n",
       "nasa   3.681893  5.895323e+02  \n",
       "aw3d   4.535709  5.792883e+02  \n",
       "s2r    0.074907  1.079650e+00  \n",
       "s2g    0.083673  1.053784e+00  \n",
       "s2b    0.050057  1.070776e+00  "
      ]
     },
     "execution_count": 169,
     "metadata": {},
     "output_type": "execute_result"
    }
   ],
   "source": [
    "dx.describe().T"
   ]
  },
  {
   "cell_type": "code",
   "execution_count": 170,
   "metadata": {},
   "outputs": [],
   "source": [
    "from sklearn.preprocessing import StandardScaler, MinMaxScaler, RobustScaler,PowerTransformer,Normalizer\n",
    "from sklearn.model_selection import train_test_split\n",
    "from catboost import CatBoostRegressor\n",
    "import pickle\n",
    "from sklearn.metrics import mean_squared_error, r2_score\n",
    "### https://scikit-learn.org/stable/modules/classes.html#module-sklearn.preprocessing"
   ]
  },
  {
   "cell_type": "code",
   "execution_count": 171,
   "metadata": {},
   "outputs": [
    {
     "name": "stdout",
     "output_type": "stream",
     "text": [
      "(38858090, 7) (38858090,)\n",
      "(6857310, 7) (6857310,)\n"
     ]
    }
   ],
   "source": [
    "trainx, validx, trainy, validy = split_train_valid(dx)"
   ]
  },
  {
   "cell_type": "code",
   "execution_count": 172,
   "metadata": {},
   "outputs": [],
   "source": [
    "def perf_eval(t,p):\n",
    "    r2 = r2_score(t,p) # why are squared is not really good for spatial data - that lady thesis \n",
    "    rmse = mean_squared_error(t,p, squared=False)\n",
    "    print(f'RMSE {rmse} and R2 {r2}')\n",
    "\n",
    "\n",
    "def scale_data(xdf, method='StandardScaler'):\n",
    "    if method == 'StandardScaler': scaler = StandardScaler()\n",
    "    elif method == 'MinMaxScaler': scaler = MinMaxScaler()\n",
    "    elif method == 'RobustScaler': scaler = RobustScaler()\n",
    "    elif method == 'Normalizer': scaler = Normalizer()\n",
    "    ### add more\n",
    "    dfx = scaler.fit_transform(xdf)\n",
    "    return dfx\n",
    "\n",
    "\n",
    "def fit_catboost(trainx, validx, trainy, validy,model_path):\n",
    "    ## make it generalizeble []\n",
    "\n",
    "    early_stop = 100\n",
    "    floss  = 'RMSE'\n",
    "    lrate = 0.1\n",
    "    model = CatBoostRegressor(iterations=10000, verbose=100, \n",
    "                                early_stopping_rounds=early_stop, \n",
    "                                loss_function= floss,\n",
    "                                depth = 6, \n",
    "                                learning_rate=lrate,\n",
    "                                task_type=\"GPU\", devices=\"0:1\")\n",
    "    model.fit(trainx, trainy, eval_set=(validx, validy))\n",
    "\n",
    "    pickle_write_model(model, model_path)\n",
    "    return model\n",
    "\n",
    "def pickle_load_model(model_path):\n",
    "    pickled_model = pickle.load(open(model_path, 'rb'))\n",
    "    return pickled_model\n",
    "\n",
    "def pickle_write_model(model, model_path):\n",
    "    pickle.dump(model, open(model_path, 'wb'))\n",
    "    return model_path"
   ]
  },
  {
   "cell_type": "code",
   "execution_count": 173,
   "metadata": {},
   "outputs": [],
   "source": [
    "trainx_s = scale_data(trainx, 'StandardScaler')\n",
    "trainx_m = scale_data(trainx, 'MinMaxScaler')\n",
    "trainx_r = scale_data(trainx, 'RobustScaler')\n",
    "trainx_n = scale_data(trainx, 'Normalizer')\n",
    "\n",
    "validx_s = scale_data(validx, 'StandardScaler')\n",
    "validx_m = scale_data(validx, 'MinMaxScaler')\n",
    "validx_r = scale_data(validx, 'RobustScaler')\n",
    "validx_n = scale_data(validx, 'Normalizer')"
   ]
  },
  {
   "cell_type": "code",
   "execution_count": 224,
   "metadata": {},
   "outputs": [
    {
     "name": "stdout",
     "output_type": "stream",
     "text": [
      "2023-03-13_16-18-52_GMT+0000\n"
     ]
    }
   ],
   "source": [
    "import datetime\n",
    "import pytz\n",
    "\n",
    "def get_current_datetime_uk():\n",
    "    # Set the timezone to UK\n",
    "    uk_tz = pytz.timezone('Europe/London')\n",
    "\n",
    "    # Get the current datetime in UK timezone\n",
    "    now = datetime.datetime.now(uk_tz)\n",
    "\n",
    "    # Format the datetime as a string\n",
    "    date_str = now.strftime('%Y-%m-%d %H:%M:%S %Z%z')\n",
    "\n",
    "    # Return the date and time as a list\n",
    "    a = date_str.split()\n",
    "    dt = f'{a[0]}_{a[1]}_{a[2]}'.replace(':','-')\n",
    "    return dt\n",
    "\n",
    "# Call the function and print the result\n",
    "print(get_current_datetime_uk())\n"
   ]
  },
  {
   "cell_type": "code",
   "execution_count": 218,
   "metadata": {},
   "outputs": [],
   "source": [
    "a = get_current_datetime_uk()"
   ]
  },
  {
   "cell_type": "code",
   "execution_count": 219,
   "metadata": {},
   "outputs": [
    {
     "data": {
      "text/plain": [
       "['2023-03-13', '16:16:12', 'GMT+0000']"
      ]
     },
     "execution_count": 219,
     "metadata": {},
     "output_type": "execute_result"
    }
   ],
   "source": [
    "a"
   ]
  },
  {
   "cell_type": "code",
   "execution_count": 223,
   "metadata": {},
   "outputs": [
    {
     "data": {
      "text/plain": [
       "'2023-03-13_16-16-12_GMT+0000'"
      ]
     },
     "execution_count": 223,
     "metadata": {},
     "output_type": "execute_result"
    }
   ],
   "source": [
    "dt = f'{a[0]}_{a[1]}_{a[2]}'.replace(':','-')\n",
    "dt "
   ]
  },
  {
   "cell_type": "code",
   "execution_count": null,
   "metadata": {},
   "outputs": [],
   "source": []
  },
  {
   "cell_type": "code",
   "execution_count": null,
   "metadata": {},
   "outputs": [],
   "source": [
    "modeldir = os.path.join(nsample_dirpath, 'models')\n",
    "os.makedirs(modeldir, exist_ok=True)\n",
    "modelpath_s = os.path.join(modeldir, f'cboost_s_{Nsize}.pkl')\n",
    "modelpath_m = os.path.join(modeldir, f'cboost_m_{Nsize}.pkl')\n",
    "modelpath_r = os.path.join(modeldir, f'cboost_r_{Nsize}.pkl')\n",
    "modelpath_n = os.path.join(modeldir, f'cboost_n_{Nsize}.pkl')\n",
    "\n",
    "\n",
    "model_s = fit_catboost(trainx_s, validx_s, trainy, validy,modelpath_s)\n",
    "model_m = fit_catboost(trainx_m, validx_m, trainy, validy,modelpath_m)\n",
    "model_r = fit_catboost(trainx_r, validx_r, trainy, validy,modelpath_r)\n",
    "model_n = fit_catboost(trainx_n, validx_n, trainy, validy,modelpath_n)"
   ]
  },
  {
   "cell_type": "code",
   "execution_count": 175,
   "metadata": {},
   "outputs": [],
   "source": [
    "def eval_model(model, X,y):\n",
    "    p = model.predict(X)\n",
    "    perf_eval(y,p)\n",
    "\n",
    "\n",
    "#plot history "
   ]
  },
  {
   "cell_type": "code",
   "execution_count": 176,
   "metadata": {},
   "outputs": [
    {
     "name": "stdout",
     "output_type": "stream",
     "text": [
      "RMSE 1.7519690993515324 and R2 0.3382839287245234\n",
      "RMSE 1.7457869807104265 and R2 0.3429456430309683\n",
      "RMSE 1.7126043870049692 and R2 0.36768584647921976\n",
      "RMSE 1.7543400105909004 and R2 0.3364917377156843\n",
      "\n",
      "RMSE 1.7629571510970568 and R2 0.3296587143204204\n",
      "RMSE 1.7785528057161655 and R2 0.31774616997900385\n",
      "RMSE 1.7240076512801874 and R2 0.3589515828765949\n",
      "RMSE 1.7660481592759418 and R2 0.3273060231618292\n"
     ]
    }
   ],
   "source": [
    "models = [model_s,model_m,model_r,model_n]\n",
    "eval_model(model_s, trainx_s, trainy)\n",
    "eval_model(model_m, trainx_m, trainy)\n",
    "eval_model(model_r, trainx_r, trainy)\n",
    "eval_model(model_n, trainx_n, trainy)\n",
    "\n",
    "print('')\n",
    "\n",
    "eval_model(model_s, validx_s, validy)\n",
    "eval_model(model_m, validx_m, validy)\n",
    "eval_model(model_r, validx_r, validy)\n",
    "eval_model(model_n, validx_n, validy)\n",
    "# write this into a text file and save same place like the modelpath"
   ]
  },
  {
   "cell_type": "code",
   "execution_count": 225,
   "metadata": {},
   "outputs": [],
   "source": [
    "ad = {'R^2': 0.32561376344981496, 'MAE': 0.8185511826709, 'MSE': 2.713837073442267, 'RMSE': 1.6473727791372137, 'Explained Variance Score': 0.32561416611396155, 'MeAE': 0.2901570536849505}\n"
   ]
  },
  {
   "cell_type": "code",
   "execution_count": 226,
   "metadata": {},
   "outputs": [
    {
     "data": {
      "text/plain": [
       "{'R^2': 0.32561376344981496,\n",
       " 'MAE': 0.8185511826709,\n",
       " 'MSE': 2.713837073442267,\n",
       " 'RMSE': 1.6473727791372137,\n",
       " 'Explained Variance Score': 0.32561416611396155,\n",
       " 'MeAE': 0.2901570536849505}"
      ]
     },
     "execution_count": 226,
     "metadata": {},
     "output_type": "execute_result"
    }
   ],
   "source": [
    "ad"
   ]
  },
  {
   "cell_type": "code",
   "execution_count": null,
   "metadata": {},
   "outputs": [],
   "source": []
  },
  {
   "cell_type": "code",
   "execution_count": 177,
   "metadata": {},
   "outputs": [],
   "source": [
    "# even for 2d remove pixel vals that don't make sense too low/high"
   ]
  },
  {
   "cell_type": "code",
   "execution_count": 178,
   "metadata": {},
   "outputs": [],
   "source": [
    "#trainx.describe()"
   ]
  },
  {
   "cell_type": "code",
   "execution_count": 179,
   "metadata": {},
   "outputs": [],
   "source": [
    "#pd.DataFrame(trainx_s).describe()"
   ]
  },
  {
   "cell_type": "code",
   "execution_count": 180,
   "metadata": {},
   "outputs": [],
   "source": [
    "#pd.DataFrame(trainx_m).describe()"
   ]
  },
  {
   "cell_type": "code",
   "execution_count": 181,
   "metadata": {},
   "outputs": [],
   "source": [
    "#pd.DataFrame(trainx_r).describe()"
   ]
  },
  {
   "cell_type": "code",
   "execution_count": 182,
   "metadata": {},
   "outputs": [],
   "source": [
    "#pd.DataFrame(trainx_n).describe()"
   ]
  },
  {
   "cell_type": "code",
   "execution_count": 183,
   "metadata": {},
   "outputs": [
    {
     "data": {
      "text/plain": [
       "Index(['x', 'y', 'zdif', 'lidar', 'tdx', 'cop', 'merit', 'nasa', 'aw3d', 's2r',\n",
       "       's2g', 's2b', 'id'],\n",
       "      dtype='object')"
      ]
     },
     "execution_count": 183,
     "metadata": {},
     "output_type": "execute_result"
    }
   ],
   "source": [
    "traindf.columns"
   ]
  },
  {
   "cell_type": "code",
   "execution_count": null,
   "metadata": {},
   "outputs": [],
   "source": []
  },
  {
   "cell_type": "code",
   "execution_count": null,
   "metadata": {},
   "outputs": [],
   "source": []
  },
  {
   "cell_type": "code",
   "execution_count": null,
   "metadata": {},
   "outputs": [],
   "source": []
  },
  {
   "cell_type": "code",
   "execution_count": null,
   "metadata": {},
   "outputs": [],
   "source": []
  },
  {
   "cell_type": "code",
   "execution_count": null,
   "metadata": {},
   "outputs": [],
   "source": []
  },
  {
   "cell_type": "code",
   "execution_count": null,
   "metadata": {},
   "outputs": [],
   "source": []
  },
  {
   "cell_type": "code",
   "execution_count": null,
   "metadata": {},
   "outputs": [],
   "source": []
  },
  {
   "cell_type": "code",
   "execution_count": 184,
   "metadata": {},
   "outputs": [
    {
     "ename": "NameError",
     "evalue": "name 'plotS2RGB' is not defined",
     "output_type": "error",
     "traceback": [
      "\u001b[0;31m---------------------------------------------------------------------------\u001b[0m",
      "\u001b[0;31mNameError\u001b[0m                                 Traceback (most recent call last)",
      "Cell \u001b[0;32mIn[184], line 1\u001b[0m\n\u001b[0;32m----> 1\u001b[0m plotS2RGB(numpaths[\u001b[39m-\u001b[39m\u001b[39m2\u001b[39m])\n",
      "\u001b[0;31mNameError\u001b[0m: name 'plotS2RGB' is not defined"
     ]
    }
   ],
   "source": [
    "plotS2RGB(numpaths[-2])"
   ]
  },
  {
   "cell_type": "code",
   "execution_count": null,
   "metadata": {},
   "outputs": [],
   "source": [
    "# where's that script that create gkpg for sampling patches and Id???\n",
    "### look @2baseline "
   ]
  },
  {
   "cell_type": "code",
   "execution_count": null,
   "metadata": {},
   "outputs": [],
   "source": []
  },
  {
   "cell_type": "code",
   "execution_count": null,
   "metadata": {},
   "outputs": [
    {
     "name": "stdout",
     "output_type": "stream",
     "text": [
      "/media/ljp238/6tb/Joseph/DATASETS/OUT_TILES/1x1degree/N10_E105/patch256x256/outproc/Nsize10patches\n",
      "12\n",
      "train: 8\n",
      "valid: 2\n",
      "test : 2\n"
     ]
    }
   ],
   "source": []
  },
  {
   "cell_type": "code",
   "execution_count": null,
   "metadata": {},
   "outputs": [],
   "source": []
  },
  {
   "cell_type": "code",
   "execution_count": null,
   "metadata": {},
   "outputs": [],
   "source": []
  },
  {
   "cell_type": "code",
   "execution_count": null,
   "metadata": {},
   "outputs": [],
   "source": []
  },
  {
   "cell_type": "code",
   "execution_count": null,
   "metadata": {},
   "outputs": [],
   "source": []
  },
  {
   "cell_type": "code",
   "execution_count": null,
   "metadata": {},
   "outputs": [],
   "source": []
  },
  {
   "cell_type": "code",
   "execution_count": null,
   "metadata": {},
   "outputs": [],
   "source": []
  },
  {
   "cell_type": "code",
   "execution_count": null,
   "metadata": {},
   "outputs": [],
   "source": []
  },
  {
   "cell_type": "code",
   "execution_count": null,
   "metadata": {},
   "outputs": [],
   "source": []
  },
  {
   "cell_type": "code",
   "execution_count": null,
   "metadata": {},
   "outputs": [],
   "source": []
  },
  {
   "cell_type": "code",
   "execution_count": null,
   "metadata": {},
   "outputs": [],
   "source": []
  },
  {
   "cell_type": "code",
   "execution_count": null,
   "metadata": {},
   "outputs": [],
   "source": []
  },
  {
   "cell_type": "code",
   "execution_count": null,
   "metadata": {},
   "outputs": [],
   "source": []
  },
  {
   "cell_type": "code",
   "execution_count": null,
   "metadata": {},
   "outputs": [],
   "source": []
  },
  {
   "cell_type": "code",
   "execution_count": null,
   "metadata": {},
   "outputs": [],
   "source": []
  },
  {
   "cell_type": "code",
   "execution_count": null,
   "metadata": {},
   "outputs": [],
   "source": []
  },
  {
   "cell_type": "code",
   "execution_count": null,
   "metadata": {},
   "outputs": [],
   "source": []
  },
  {
   "cell_type": "code",
   "execution_count": null,
   "metadata": {},
   "outputs": [],
   "source": []
  },
  {
   "cell_type": "code",
   "execution_count": null,
   "metadata": {},
   "outputs": [],
   "source": []
  },
  {
   "cell_type": "code",
   "execution_count": null,
   "metadata": {},
   "outputs": [],
   "source": []
  },
  {
   "cell_type": "code",
   "execution_count": null,
   "metadata": {},
   "outputs": [],
   "source": []
  }
 ],
 "metadata": {
  "kernelspec": {
   "display_name": "automl",
   "language": "python",
   "name": "automl"
  },
  "language_info": {
   "codemirror_mode": {
    "name": "ipython",
    "version": 3
   },
   "file_extension": ".py",
   "mimetype": "text/x-python",
   "name": "python",
   "nbconvert_exporter": "python",
   "pygments_lexer": "ipython3",
   "version": "3.8.15"
  },
  "orig_nbformat": 4
 },
 "nbformat": 4,
 "nbformat_minor": 2
}
