{
 "cells": [
  {
   "cell_type": "code",
   "execution_count": 1,
   "metadata": {},
   "outputs": [],
   "source": [
    "import dask\n",
    "import dask.dataframe as dd\n",
    "from dask_ml.datasets import make_regression\n",
    "from dask_ml.model_selection import train_test_split\n",
    "from dask_ml.preprocessing import MinMaxScaler, QuantileTransformer,RobustScaler, StandardScaler\n",
    "#import dask_xgboost as dxgb\n",
    "from dask.distributed import Client\n",
    "import xgboost as xgb\n",
    "\n",
    "\n",
    "# Connect to Dask cluster\n",
    "#client = Client()\n",
    "# check null and sum\n"
   ]
  },
  {
   "cell_type": "code",
   "execution_count": 2,
   "metadata": {},
   "outputs": [],
   "source": [
    "f ='/media/ljp238/6tb/Joseph/DATASETS/OUT_TILES/1x1degree/N10_E105/patch256x256/outproc/Train1001patches/tile_256_256_idx295.parquet'"
   ]
  },
  {
   "cell_type": "code",
   "execution_count": 28,
   "metadata": {},
   "outputs": [],
   "source": [
    "data = dd.read_parquet(f)"
   ]
  },
  {
   "cell_type": "code",
   "execution_count": 29,
   "metadata": {},
   "outputs": [
    {
     "data": {
      "text/html": [
       "<div>\n",
       "<style scoped>\n",
       "    .dataframe tbody tr th:only-of-type {\n",
       "        vertical-align: middle;\n",
       "    }\n",
       "\n",
       "    .dataframe tbody tr th {\n",
       "        vertical-align: top;\n",
       "    }\n",
       "\n",
       "    .dataframe thead th {\n",
       "        text-align: right;\n",
       "    }\n",
       "</style>\n",
       "<table border=\"1\" class=\"dataframe\">\n",
       "  <thead>\n",
       "    <tr style=\"text-align: right;\">\n",
       "      <th></th>\n",
       "      <th>x</th>\n",
       "      <th>y</th>\n",
       "      <th>zdif</th>\n",
       "      <th>lidar</th>\n",
       "      <th>tdx</th>\n",
       "      <th>cop</th>\n",
       "      <th>merit</th>\n",
       "      <th>nasa</th>\n",
       "      <th>aw3d</th>\n",
       "      <th>s2r</th>\n",
       "      <th>s2g</th>\n",
       "      <th>s2b</th>\n",
       "      <th>id</th>\n",
       "    </tr>\n",
       "  </thead>\n",
       "  <tbody>\n",
       "    <tr>\n",
       "      <th>0</th>\n",
       "      <td>105.028444</td>\n",
       "      <td>10.971556</td>\n",
       "      <td>-3.402823e+38</td>\n",
       "      <td>3.402823e+38</td>\n",
       "      <td>2.505653</td>\n",
       "      <td>2.424999</td>\n",
       "      <td>3.677196</td>\n",
       "      <td>0.837923</td>\n",
       "      <td>5.253370</td>\n",
       "      <td>0.122705</td>\n",
       "      <td>0.092074</td>\n",
       "      <td>0.062667</td>\n",
       "      <td>295</td>\n",
       "    </tr>\n",
       "    <tr>\n",
       "      <th>1</th>\n",
       "      <td>105.028556</td>\n",
       "      <td>10.971556</td>\n",
       "      <td>-3.402823e+38</td>\n",
       "      <td>3.402823e+38</td>\n",
       "      <td>2.208611</td>\n",
       "      <td>2.350650</td>\n",
       "      <td>3.672680</td>\n",
       "      <td>0.508425</td>\n",
       "      <td>5.075640</td>\n",
       "      <td>0.125213</td>\n",
       "      <td>0.096221</td>\n",
       "      <td>0.064349</td>\n",
       "      <td>295</td>\n",
       "    </tr>\n",
       "    <tr>\n",
       "      <th>2</th>\n",
       "      <td>105.028668</td>\n",
       "      <td>10.971556</td>\n",
       "      <td>-3.402823e+38</td>\n",
       "      <td>3.402823e+38</td>\n",
       "      <td>2.522614</td>\n",
       "      <td>2.399151</td>\n",
       "      <td>3.668847</td>\n",
       "      <td>0.242785</td>\n",
       "      <td>4.915590</td>\n",
       "      <td>0.122470</td>\n",
       "      <td>0.103785</td>\n",
       "      <td>0.068503</td>\n",
       "      <td>295</td>\n",
       "    </tr>\n",
       "    <tr>\n",
       "      <th>3</th>\n",
       "      <td>105.028779</td>\n",
       "      <td>10.971556</td>\n",
       "      <td>-3.402823e+38</td>\n",
       "      <td>3.402823e+38</td>\n",
       "      <td>2.917932</td>\n",
       "      <td>2.517056</td>\n",
       "      <td>3.665547</td>\n",
       "      <td>0.134711</td>\n",
       "      <td>4.822927</td>\n",
       "      <td>0.115115</td>\n",
       "      <td>0.102685</td>\n",
       "      <td>0.070169</td>\n",
       "      <td>295</td>\n",
       "    </tr>\n",
       "    <tr>\n",
       "      <th>4</th>\n",
       "      <td>105.028891</td>\n",
       "      <td>10.971556</td>\n",
       "      <td>-3.402823e+38</td>\n",
       "      <td>3.402823e+38</td>\n",
       "      <td>2.586941</td>\n",
       "      <td>2.585482</td>\n",
       "      <td>3.662641</td>\n",
       "      <td>0.280167</td>\n",
       "      <td>4.781820</td>\n",
       "      <td>0.105068</td>\n",
       "      <td>0.096805</td>\n",
       "      <td>0.066856</td>\n",
       "      <td>295</td>\n",
       "    </tr>\n",
       "  </tbody>\n",
       "</table>\n",
       "</div>"
      ],
      "text/plain": [
       "            x          y          zdif         lidar       tdx       cop  \\\n",
       "0  105.028444  10.971556 -3.402823e+38  3.402823e+38  2.505653  2.424999   \n",
       "1  105.028556  10.971556 -3.402823e+38  3.402823e+38  2.208611  2.350650   \n",
       "2  105.028668  10.971556 -3.402823e+38  3.402823e+38  2.522614  2.399151   \n",
       "3  105.028779  10.971556 -3.402823e+38  3.402823e+38  2.917932  2.517056   \n",
       "4  105.028891  10.971556 -3.402823e+38  3.402823e+38  2.586941  2.585482   \n",
       "\n",
       "      merit      nasa      aw3d       s2r       s2g       s2b   id  \n",
       "0  3.677196  0.837923  5.253370  0.122705  0.092074  0.062667  295  \n",
       "1  3.672680  0.508425  5.075640  0.125213  0.096221  0.064349  295  \n",
       "2  3.668847  0.242785  4.915590  0.122470  0.103785  0.068503  295  \n",
       "3  3.665547  0.134711  4.822927  0.115115  0.102685  0.070169  295  \n",
       "4  3.662641  0.280167  4.781820  0.105068  0.096805  0.066856  295  "
      ]
     },
     "execution_count": 29,
     "metadata": {},
     "output_type": "execute_result"
    }
   ],
   "source": [
    "data.head()"
   ]
  },
  {
   "cell_type": "code",
   "execution_count": 41,
   "metadata": {},
   "outputs": [
    {
     "data": {
      "text/html": [
       "<div>\n",
       "<style scoped>\n",
       "    .dataframe tbody tr th:only-of-type {\n",
       "        vertical-align: middle;\n",
       "    }\n",
       "\n",
       "    .dataframe tbody tr th {\n",
       "        vertical-align: top;\n",
       "    }\n",
       "\n",
       "    .dataframe thead th {\n",
       "        text-align: right;\n",
       "    }\n",
       "</style>\n",
       "<table border=\"1\" class=\"dataframe\">\n",
       "  <thead>\n",
       "    <tr style=\"text-align: right;\">\n",
       "      <th></th>\n",
       "      <th>x</th>\n",
       "      <th>y</th>\n",
       "      <th>zdif</th>\n",
       "      <th>lidar</th>\n",
       "      <th>tdx</th>\n",
       "      <th>cop</th>\n",
       "      <th>merit</th>\n",
       "      <th>nasa</th>\n",
       "      <th>aw3d</th>\n",
       "      <th>s2r</th>\n",
       "      <th>s2g</th>\n",
       "      <th>s2b</th>\n",
       "      <th>id</th>\n",
       "    </tr>\n",
       "  </thead>\n",
       "  <tbody>\n",
       "  </tbody>\n",
       "</table>\n",
       "</div>"
      ],
      "text/plain": [
       "Empty DataFrame\n",
       "Columns: [x, y, zdif, lidar, tdx, cop, merit, nasa, aw3d, s2r, s2g, s2b, id]\n",
       "Index: []"
      ]
     },
     "execution_count": 41,
     "metadata": {},
     "output_type": "execute_result"
    }
   ],
   "source": [
    "dat = data.loc[data[\"zdif\"] > -99]#.compute()\n",
    "dat.compute()"
   ]
  },
  {
   "cell_type": "code",
   "execution_count": 42,
   "metadata": {},
   "outputs": [
    {
     "data": {
      "text/html": [
       "<div>\n",
       "<style scoped>\n",
       "    .dataframe tbody tr th:only-of-type {\n",
       "        vertical-align: middle;\n",
       "    }\n",
       "\n",
       "    .dataframe tbody tr th {\n",
       "        vertical-align: top;\n",
       "    }\n",
       "\n",
       "    .dataframe thead th {\n",
       "        text-align: right;\n",
       "    }\n",
       "</style>\n",
       "<table border=\"1\" class=\"dataframe\">\n",
       "  <thead>\n",
       "    <tr style=\"text-align: right;\">\n",
       "      <th></th>\n",
       "      <th>x</th>\n",
       "      <th>y</th>\n",
       "      <th>zdif</th>\n",
       "      <th>lidar</th>\n",
       "      <th>tdx</th>\n",
       "      <th>cop</th>\n",
       "      <th>merit</th>\n",
       "      <th>nasa</th>\n",
       "      <th>aw3d</th>\n",
       "      <th>s2r</th>\n",
       "      <th>s2g</th>\n",
       "      <th>s2b</th>\n",
       "      <th>id</th>\n",
       "    </tr>\n",
       "  </thead>\n",
       "  <tbody>\n",
       "  </tbody>\n",
       "</table>\n",
       "</div>"
      ],
      "text/plain": [
       "Empty DataFrame\n",
       "Columns: [x, y, zdif, lidar, tdx, cop, merit, nasa, aw3d, s2r, s2g, s2b, id]\n",
       "Index: []"
      ]
     },
     "execution_count": 42,
     "metadata": {},
     "output_type": "execute_result"
    }
   ],
   "source": [
    "dat.head()"
   ]
  },
  {
   "cell_type": "code",
   "execution_count": 5,
   "metadata": {},
   "outputs": [
    {
     "data": {
      "text/plain": [
       "Dask Series Structure:\n",
       "npartitions=1\n",
       "aw3d    int64\n",
       "zdif      ...\n",
       "dtype: int64\n",
       "Dask Name: dataframe-sum-agg, 4 graph layers"
      ]
     },
     "execution_count": 5,
     "metadata": {},
     "output_type": "execute_result"
    }
   ],
   "source": [
    "#data.isna().sum()"
   ]
  },
  {
   "cell_type": "code",
   "execution_count": 6,
   "metadata": {},
   "outputs": [],
   "source": [
    "rcv_cols = ['zdif', 'cop', 'merit', 'nasa', 'aw3d', 's2r','s2g', 's2b']"
   ]
  },
  {
   "cell_type": "code",
   "execution_count": 7,
   "metadata": {},
   "outputs": [],
   "source": [
    "df = data[rcv_cols]"
   ]
  },
  {
   "cell_type": "code",
   "execution_count": 8,
   "metadata": {},
   "outputs": [],
   "source": [
    "#df.describe()"
   ]
  },
  {
   "cell_type": "code",
   "execution_count": 9,
   "metadata": {},
   "outputs": [
    {
     "data": {
      "text/plain": [
       "(Delayed('int-43b2d69f-9e66-48b5-963b-dbd3f9c21d53'), 7)"
      ]
     },
     "execution_count": 9,
     "metadata": {},
     "output_type": "execute_result"
    }
   ],
   "source": [
    "X = df.drop('zdif', axis=1)\n",
    "y = df['zdif']#\n",
    "X.shape"
   ]
  },
  {
   "cell_type": "code",
   "execution_count": 10,
   "metadata": {},
   "outputs": [],
   "source": [
    "trainx, testx, trainy, testy = train_test_split(X, y, shuffle=True,test_size=.15)\n",
    "#print(f'{trainx.shape} {} {} {}')"
   ]
  },
  {
   "cell_type": "code",
   "execution_count": 11,
   "metadata": {},
   "outputs": [
    {
     "data": {
      "text/plain": [
       "(Delayed('int-7ffd4677-c0f8-48f1-8d1a-9fed0081db47'), 7)"
      ]
     },
     "execution_count": 11,
     "metadata": {},
     "output_type": "execute_result"
    }
   ],
   "source": [
    "X.shape"
   ]
  },
  {
   "cell_type": "code",
   "execution_count": 12,
   "metadata": {},
   "outputs": [],
   "source": [
    "# use pipelines instead"
   ]
  },
  {
   "cell_type": "code",
   "execution_count": 13,
   "metadata": {},
   "outputs": [],
   "source": [
    "#from dask_ml.xgboost import XGBRegressor"
   ]
  },
  {
   "cell_type": "code",
   "execution_count": 14,
   "metadata": {},
   "outputs": [
    {
     "name": "stderr",
     "output_type": "stream",
     "text": [
      "INFO:distributed.scheduler:Receive client connection: Client-worker-57d066dc-c23b-11ed-8bea-dc4a3e70c0fa\n",
      "INFO:distributed.core:Starting established connection to tcp://127.0.0.1:49458\n",
      "[07:39:25] task [xgboost.dask-7]:tcp://127.0.0.1:32955 got new rank 0\n",
      "[07:39:25] INFO: ../src/gbm/gbtree.cc:179: Tree method is selected to be 'hist', which uses a single updater grow_quantile_histmaker.\n",
      "[07:39:25] INFO: ../src/gbm/gbtree.cc:179: Tree method is selected to be 'hist', which uses a single updater grow_quantile_histmaker.\n",
      "[07:39:25] INFO: ../src/data/simple_dmatrix.cc:102: Generating new Gradient Index.\n"
     ]
    },
    {
     "name": "stdout",
     "output_type": "stream",
     "text": [
      "[0]\ttrain-rmse:inf\n",
      "[1]\ttrain-rmse:inf\n",
      "[2]\ttrain-rmse:inf\n",
      "[3]\ttrain-rmse:inf\n"
     ]
    },
    {
     "name": "stderr",
     "output_type": "stream",
     "text": [
      "[07:39:25] INFO: ../src/gbm/gbtree.cc:179: Tree method is selected to be 'hist', which uses a single updater grow_quantile_histmaker.\n",
      "[07:39:25] INFO: ../src/gbm/gbtree.cc:179: Tree method is selected to be 'hist', which uses a single updater grow_quantile_histmaker.\n",
      "[07:39:25] INFO: ../src/gbm/gbtree.cc:179: Tree method is selected to be 'hist', which uses a single updater grow_quantile_histmaker.\n"
     ]
    }
   ],
   "source": [
    "if __name__ == \"__main__\":\n",
    "    cluster = dask.distributed.LocalCluster()\n",
    "    client = dask.distributed.Client(cluster)\n",
    "\n",
    "    dtrain = xgb.dask.DaskDMatrix(client, X, y)\n",
    "\n",
    "    output = xgb.dask.train(\n",
    "        client,\n",
    "        {\"verbosity\": 2, \"tree_method\": \"hist\", \"objective\": \"reg:squarederror\"},\n",
    "        dtrain,\n",
    "        num_boost_round=4,\n",
    "        evals=[(dtrain, \"train\")],\n",
    "    )\n",
    "\n"
   ]
  },
  {
   "cell_type": "code",
   "execution_count": null,
   "metadata": {},
   "outputs": [],
   "source": []
  }
 ],
 "metadata": {
  "kernelspec": {
   "display_name": "automl",
   "language": "python",
   "name": "automl"
  },
  "language_info": {
   "codemirror_mode": {
    "name": "ipython",
    "version": 3
   },
   "file_extension": ".py",
   "mimetype": "text/x-python",
   "name": "python",
   "nbconvert_exporter": "python",
   "pygments_lexer": "ipython3",
   "version": "3.8.15"
  },
  "orig_nbformat": 4
 },
 "nbformat": 4,
 "nbformat_minor": 2
}
