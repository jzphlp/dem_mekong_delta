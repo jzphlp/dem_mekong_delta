{
 "cells": [
  {
   "cell_type": "code",
   "execution_count": 1,
   "metadata": {},
   "outputs": [],
   "source": [
    "from UtilsTiling import *"
   ]
  },
  {
   "cell_type": "code",
   "execution_count": 12,
   "metadata": {},
   "outputs": [],
   "source": [
    "f = '/home/ljp238/Documents/dev_projects/mekong_delta_data_tiles/wdir/1x1degree/N09_E105/N09_E105_TANDEMX.tif'\n",
    "fi = '/media/ljp238/6tb/Joseph/DATASETS/ROI_FILES/TDX_DEM.vrt'\n",
    "fo = fi.replace('.vrt', '2.tif')"
   ]
  },
  {
   "cell_type": "code",
   "execution_count": 13,
   "metadata": {},
   "outputs": [],
   "source": [
    "proj, xres, yres,xmin, xmax, ymin, ymax, w, h = get_raster_info(f)"
   ]
  },
  {
   "cell_type": "code",
   "execution_count": 14,
   "metadata": {},
   "outputs": [
    {
     "name": "stdout",
     "output_type": "stream",
     "text": [
      "Creating output file that is 9000P x 9000L.\n",
      "Processing /media/ljp238/6tb/Joseph/DATASETS/ROI_FILES/TDX_DEM.vrt [1/1] : 0Using internal nodata values (e.g. -32767) for image /media/ljp238/6tb/Joseph/DATASETS/ROI_FILES/TDX_DEM.vrt.\n",
      "Copying nodata values from source /media/ljp238/6tb/Joseph/DATASETS/ROI_FILES/TDX_DEM.vrt to destination /media/ljp238/6tb/Joseph/DATASETS/ROI_FILES/TDX_DEM2.tif.\n",
      "...10...20...30...40...50...60...70...80...90...100 - done.\n"
     ]
    },
    {
     "data": {
      "text/plain": [
       "'/media/ljp238/6tb/Joseph/DATASETS/ROI_FILES/TDX_DEM2.tif'"
      ]
     },
     "execution_count": 14,
     "metadata": {},
     "output_type": "execute_result"
    }
   ],
   "source": [
    "gdal_regrid(fi, fo,xmin,ymin, xmax, ymax)"
   ]
  },
  {
   "cell_type": "code",
   "execution_count": 6,
   "metadata": {},
   "outputs": [
    {
     "data": {
      "text/plain": [
       "(105.0, 106.0, 9.0, 10.0)"
      ]
     },
     "execution_count": 6,
     "metadata": {},
     "output_type": "execute_result"
    }
   ],
   "source": [
    "gdal_edit_ndv"
   ]
  },
  {
   "cell_type": "code",
   "execution_count": 17,
   "metadata": {},
   "outputs": [],
   "source": [
    "def gdal_unsetndv(path):\n",
    "    # unsetnodata: remove exisiting nodata \n",
    "    # -a_nodata : assing a specific nodata value\n",
    "   # cmd = f'gdal_edit.py -unsetnodata -a_nodata {ndv} {path}'\n",
    "    cmd = f'gdal_edit.py -unsetnodata {path}'\n",
    "    os.system(cmd)\n",
    "\n",
    "\n",
    "def gdal_edit_ndv(path, ndv):\n",
    "    # unsetnodata: remove exisiting nodata \n",
    "    # -a_nodata : assing a specific nodata value\n",
    "    cmd = f'gdal_edit.py -a_nodata {ndv} {path}'\n",
    "    os.system(cmd)"
   ]
  },
  {
   "cell_type": "code",
   "execution_count": 18,
   "metadata": {},
   "outputs": [
    {
     "data": {
      "text/plain": [
       "-32767.0"
      ]
     },
     "execution_count": 18,
     "metadata": {},
     "output_type": "execute_result"
    }
   ],
   "source": [
    "get_geotiff_nodatavalue(fi)"
   ]
  },
  {
   "cell_type": "code",
   "execution_count": 19,
   "metadata": {},
   "outputs": [
    {
     "data": {
      "text/plain": [
       "-32767.0"
      ]
     },
     "execution_count": 19,
     "metadata": {},
     "output_type": "execute_result"
    }
   ],
   "source": [
    "get_geotiff_nodatavalue(fo)"
   ]
  },
  {
   "cell_type": "code",
   "execution_count": 20,
   "metadata": {},
   "outputs": [
    {
     "data": {
      "text/plain": [
       "-9999.0"
      ]
     },
     "execution_count": 20,
     "metadata": {},
     "output_type": "execute_result"
    }
   ],
   "source": [
    "gdal_edit_ndv(fo, ndv=-9999.)\n",
    "get_geotiff_nodatavalue(fo)"
   ]
  },
  {
   "cell_type": "code",
   "execution_count": null,
   "metadata": {},
   "outputs": [],
   "source": []
  }
 ],
 "metadata": {
  "kernelspec": {
   "display_name": "automl",
   "language": "python",
   "name": "automl"
  },
  "language_info": {
   "codemirror_mode": {
    "name": "ipython",
    "version": 3
   },
   "file_extension": ".py",
   "mimetype": "text/x-python",
   "name": "python",
   "nbconvert_exporter": "python",
   "pygments_lexer": "ipython3",
   "version": "3.8.15"
  },
  "orig_nbformat": 4
 },
 "nbformat": 4,
 "nbformat_minor": 2
}
