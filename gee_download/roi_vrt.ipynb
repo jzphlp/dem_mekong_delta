{
 "cells": [
  {
   "cell_type": "code",
   "execution_count": 2,
   "metadata": {},
   "outputs": [],
   "source": [
    "from glob import glob\n",
    "import os\n",
    "from UtilsFunc import *\n",
    "import pandas as pd\n",
    "import time \n",
    "\n",
    "roi_path ='/media/ljp238/6tb/Joseph/DATASETS/ROI_FILES/'\n",
    "os.makedirs(roi_path, exist_ok=True)\n",
    "\n",
    "\n",
    "def filterfiles(fs, K):\n",
    "    tdx_am2 = [i for i in fs if K in i]; print(len(tdx_am2))\n",
    "    return tdx_am2\n"
   ]
  },
  {
   "cell_type": "code",
   "execution_count": 102,
   "metadata": {},
   "outputs": [
    {
     "name": "stdout",
     "output_type": "stream",
     "text": [
      "subdirectiries included\n",
      "120\n",
      "5\n",
      "/media/ljp238/6tb/Joseph/DATASETS/Mekong/TDX_DATA/TDX_AM2.vrt\n",
      "done!!\n",
      "/media/ljp238/6tb/Joseph/DATASETS/ROI_FILES/TDX_AM2.vrt\n",
      "done!!\n",
      "5\n",
      "/media/ljp238/6tb/Joseph/DATASETS/Mekong/TDX_DATA/TDX_AMP.vrt\n",
      "done!!\n",
      "/media/ljp238/6tb/Joseph/DATASETS/ROI_FILES/TDX_AMP.vrt\n",
      "done!!\n",
      "5\n",
      "/media/ljp238/6tb/Joseph/DATASETS/Mekong/TDX_DATA/TDX_COM.vrt\n",
      "done!!\n",
      "/media/ljp238/6tb/Joseph/DATASETS/ROI_FILES/TDX_COM.vrt\n",
      "done!!\n",
      "5\n",
      "/media/ljp238/6tb/Joseph/DATASETS/Mekong/TDX_DATA/TDX_COV.vrt\n",
      "done!!\n",
      "/media/ljp238/6tb/Joseph/DATASETS/ROI_FILES/TDX_COV.vrt\n",
      "done!!\n",
      "6\n",
      "/media/ljp238/6tb/Joseph/DATASETS/Mekong/TDX_DATA/TDX_HEM.vrt\n",
      "done!!\n",
      "/media/ljp238/6tb/Joseph/DATASETS/ROI_FILES/TDX_HEM.vrt\n",
      "done!!\n",
      "5\n",
      "/media/ljp238/6tb/Joseph/DATASETS/Mekong/TDX_DATA/TDX_LSM.vrt\n",
      "done!!\n",
      "/media/ljp238/6tb/Joseph/DATASETS/ROI_FILES/TDX_LSM.vrt\n",
      "done!!\n",
      "5\n",
      "/media/ljp238/6tb/Joseph/DATASETS/Mekong/TDX_DATA/TDX_WAM.vrt\n",
      "done!!\n",
      "/media/ljp238/6tb/Joseph/DATASETS/ROI_FILES/TDX_WAM.vrt\n",
      "done!!\n",
      "5\n",
      "/media/ljp238/6tb/Joseph/DATASETS/Mekong/TDX_DATA/TDX_DEM.vrt\n",
      "done!!\n",
      "/media/ljp238/6tb/Joseph/DATASETS/ROI_FILES/TDX_DEM.vrt\n",
      "done!!\n"
     ]
    }
   ],
   "source": [
    "path = '/media/ljp238/6tb/Joseph/DATASETS/Mekong/TDX_DATA/'\n",
    "fs = dirlistfiles(path, 'tif', recursive=True)\n",
    "vois = ['AM2.tif','AMP.tif', 'COM.tif', 'COV.tif', 'HEM.tif','LSM.tif','WAM.tif', 'DEM.tif']\n",
    "vois_paths = []\n",
    "for voi in vois:\n",
    "    fs_void = filterfiles(fs, voi) \n",
    "    #tilename = os.path.basename(fs_void[0])[13:-8]\n",
    "    vrt_voi_path = os.path.join(path, f'TDX_{voi[:-4]}.vrt')\n",
    "    print(vrt_voi_path)\n",
    "    txti = vrt_voi_path.replace('.vrt', '.txt')\n",
    "    #vrti = txti.replace('.txt','.vrt')\n",
    "\n",
    "    writepath2txt(txti, fs_void)\n",
    "    buildVRT_bytxt(txti,vrt_voi_path)\n",
    "\n",
    "\n",
    "    ###########################\n",
    "    vrt_voi_path = os.path.join(roi_path, f'TDX_{voi[:-4]}.vrt')\n",
    "    print(vrt_voi_path)\n",
    "    txti = vrt_voi_path.replace('.vrt', '.txt')\n",
    "    #vrti = txti.replace('.txt','.vrt')\n",
    "\n",
    "    writepath2txt(txti, fs_void)\n",
    "    buildVRT_bytxt(txti,vrt_voi_path)\n",
    "\n",
    "\n",
    "    vois_paths.append({'Variable': voi[:-4], 'Path': vrt_voi_path})\n",
    "\n",
    "\n",
    "df = pd.DataFrame(vois_paths)\n",
    "df.to_csv(os.path.join(path,'vrt_paths.csv'), index=False)"
   ]
  },
  {
   "cell_type": "code",
   "execution_count": 98,
   "metadata": {},
   "outputs": [
    {
     "name": "stdout",
     "output_type": "stream",
     "text": [
      "AM2.tif\n",
      "AMP.tif\n",
      "COM.tif\n",
      "COV.tif\n",
      "HEM.tif\n",
      "LSM.tif\n",
      "WAM.tif\n",
      "DEM.tif\n"
     ]
    }
   ],
   "source": [
    "for voi in vois:\n",
    "    print(voi)\n",
    "    voi_tiles = df[df.Variable == voi[:-4]].Path.tolist()"
   ]
  },
  {
   "cell_type": "code",
   "execution_count": 99,
   "metadata": {},
   "outputs": [
    {
     "data": {
      "text/plain": [
       "['/media/ljp238/6tb/Joseph/DATASETS/Mekong/TDX_DATA/TDX_DEM.vrt']"
      ]
     },
     "execution_count": 99,
     "metadata": {},
     "output_type": "execute_result"
    }
   ],
   "source": [
    "voi_tiles"
   ]
  },
  {
   "attachments": {},
   "cell_type": "markdown",
   "metadata": {},
   "source": [
    "## glo30 copdem"
   ]
  },
  {
   "cell_type": "code",
   "execution_count": 3,
   "metadata": {},
   "outputs": [
    {
     "name": "stdout",
     "output_type": "stream",
     "text": [
      "WBM\n",
      "EDM\n",
      "FLM\n",
      "DEM\n",
      "0...10...20...30...40...50...60...70...80...90...100 - done.\n",
      "0...10...20...30...40...50...60...70...80...90...100 - done.\n",
      "0...10...20...30...40...50...60...70...80...90...100 - done.\n",
      "0...10...20...30...40...50...60...70...80...90...100 - done.\n",
      "0...10...20...30...40...50...60...70...80...90...100 - done.\n"
     ]
    }
   ],
   "source": [
    "glo30_path = '/media/ljp238/6tb/Joseph/DATASETS/COPDEM/'\n",
    "\n",
    "vois = ['WBM', 'EDM', 'FLM','DEM']\n",
    "vois_paths = []\n",
    "\n",
    "\n",
    "tile_names = os.listdir(glo30_path)\n",
    "tile_names = [i for i in tile_names if not 'WBM' in i and not 'OUT' in i]\n",
    "\n",
    "for voi in vois:\n",
    "    print(voi)\n",
    "    for i in range(len(tile_names)):\n",
    "        tile_path = os.path.join(glo30_path, tile_names[i])\n",
    "        tile_path_var = os.path.join(tile_path, voi)\n",
    "        vrt_voi_path = os.path.join(tile_path, f'{tile_names[i]}_{voi}.vrt')\n",
    "        buildVRT_bypath(vrt_voi_path, tile_path_var)\n",
    "        #print(vrt_voi_path)\n",
    "        vois_paths.append({'TileName': tile_names[i], 'Variable': voi, 'Path': vrt_voi_path})\n",
    "\n",
    "merge_out = os.path.join(glo30_path, 'OUT')\n",
    "os.makedirs(merge_out, exist_ok=True)\n",
    "df = pd.DataFrame(vois_paths)\n",
    "df.to_csv(os.path.join(merge_out,'vrt_paths.csv'), index=False)"
   ]
  },
  {
   "cell_type": "code",
   "execution_count": 4,
   "metadata": {},
   "outputs": [
    {
     "name": "stdout",
     "output_type": "stream",
     "text": [
      "WBM\n",
      "done!!\n",
      "EDM\n",
      "done!!\n",
      "FLM\n",
      "done!!\n",
      "DEM\n",
      "0...10...20...30...40...50...60...70...80...90...100 - done.\n",
      "done!!\n"
     ]
    }
   ],
   "source": [
    "for voi in vois:\n",
    "    print(voi)\n",
    "    voi_tiles = df[df.Variable == voi].Path.tolist()\n",
    "    #print(voi_tiles)#\n",
    "    name = voi_tiles[0].split('/')[-2]\n",
    "    txti = os.path.join(roi_path,f'COP_{voi}.txt')\n",
    "    vrti = txti.replace('.txt','.vrt')\n",
    "\n",
    "    writepath2txt(txti, voi_tiles)\n",
    "    time.sleep(0.1)\n",
    "    buildVRT_bytxt(txti, vrti)"
   ]
  },
  {
   "attachments": {},
   "cell_type": "markdown",
   "metadata": {},
   "source": [
    "## LiDAR"
   ]
  },
  {
   "cell_type": "code",
   "execution_count": 54,
   "metadata": {},
   "outputs": [
    {
     "name": "stdout",
     "output_type": "stream",
     "text": [
      "subdirectiries included\n",
      "1\n",
      "0...10...20...30...40...50...60...70...80...90...100 - done.\n",
      "done!!\n"
     ]
    }
   ],
   "source": [
    "lidar_path = '/media/ljp238/6tb/Joseph/DATASETS/DEMs/LIDAR_MekongDelta/'\n",
    "fs = dirlistfiles(lidar_path, 'tif', recursive=True)\n",
    "\n",
    "txti = os.path.join(roi_path,f'LiDAR_MekongDelta.txt')\n",
    "vrti = txti.replace('.txt','.vrt')\n",
    "\n",
    "writepath2txt(txti, fs)\n",
    "time.sleep(0.1)\n",
    "buildVRT_bytxt(txti, vrti)"
   ]
  },
  {
   "attachments": {},
   "cell_type": "markdown",
   "metadata": {},
   "source": [
    "## MERIT"
   ]
  },
  {
   "cell_type": "code",
   "execution_count": 55,
   "metadata": {},
   "outputs": [
    {
     "name": "stdout",
     "output_type": "stream",
     "text": [
      "subdirectiries included\n",
      "96\n",
      "0...10...20...30...40...50...60...70...80...90...100 - done.\n",
      "done!!\n"
     ]
    }
   ],
   "source": [
    "name = 'MERIT'\n",
    "merit_path = '/media/ljp238/6tb/Joseph/DATASETS/DEMs/MERITDEM/'\n",
    "fs = dirlistfiles(merit_path, 'tif', recursive=True)\n",
    "txti = os.path.join(roi_path,f'{name}.txt')\n",
    "vrti = txti.replace('.txt','.vrt')\n",
    "\n",
    "writepath2txt(txti, fs)\n",
    "time.sleep(0.1)\n",
    "buildVRT_bytxt(txti, vrti)"
   ]
  },
  {
   "attachments": {},
   "cell_type": "markdown",
   "metadata": {},
   "source": [
    "## TDX"
   ]
  },
  {
   "cell_type": "code",
   "execution_count": 56,
   "metadata": {},
   "outputs": [
    {
     "name": "stdout",
     "output_type": "stream",
     "text": [
      "subdirectiries included\n",
      "5\n",
      "0...10...20...30...40...50...60...70...80...90...100 - done.\n",
      "done!!\n"
     ]
    }
   ],
   "source": [
    "name = 'TDX'\n",
    "merit_path = '/media/ljp238/6tb/Joseph/DATASETS/DEMs/TANDEMX/'\n",
    "fs = dirlistfiles(merit_path, 'tif', recursive=True)\n",
    "txti = os.path.join(roi_path,f'{name}.txt')\n",
    "vrti = txti.replace('.txt','.vrt')\n",
    "txti = os.path.join(roi_path,f'{name}.txt')\n",
    "vrti = txti.replace('.txt','.vrt')\n",
    "\n",
    "writepath2txt(txti, fs)\n",
    "time.sleep(0.1)\n",
    "buildVRT_bytxt(txti, vrti)"
   ]
  },
  {
   "attachments": {},
   "cell_type": "markdown",
   "metadata": {},
   "source": [
    "## TDX AUX"
   ]
  },
  {
   "attachments": {},
   "cell_type": "markdown",
   "metadata": {},
   "source": [
    "## AW3D_H"
   ]
  },
  {
   "cell_type": "code",
   "execution_count": 57,
   "metadata": {},
   "outputs": [
    {
     "name": "stdout",
     "output_type": "stream",
     "text": [
      "subdirectiries included\n",
      "1787\n",
      "0...10...20...30...40...50...60...70...80...90...100 - done.\n",
      "done!!\n"
     ]
    }
   ],
   "source": [
    "\n",
    "name = 'AW3D_H'\n",
    "path = '/media/ljp238/6tb/Joseph/DATASETS/DEMs/AW3D30/'\n",
    "fs = dirlistfiles(path, 'tif', recursive=True)\n",
    "txti = os.path.join(roi_path,f'{name}.txt')\n",
    "vrti = txti.replace('.txt','.vrt')\n",
    "txti = os.path.join(roi_path,f'{name}.txt')\n",
    "vrti = txti.replace('.txt','.vrt')\n",
    "\n",
    "writepath2txt(txti, fs)\n",
    "time.sleep(0.1)\n",
    "buildVRT_bytxt(txti, vrti)"
   ]
  },
  {
   "attachments": {},
   "cell_type": "markdown",
   "metadata": {},
   "source": [
    "## AW3D_h"
   ]
  },
  {
   "cell_type": "code",
   "execution_count": 58,
   "metadata": {},
   "outputs": [
    {
     "name": "stdout",
     "output_type": "stream",
     "text": [
      "subdirectiries included\n",
      "1788\n",
      "0...10...20...30...40...50...60...70...80...90...100 - done.\n",
      "done!!\n"
     ]
    }
   ],
   "source": [
    "name = 'AW3D_h'\n",
    "path = '/media/ljp238/6tb/Joseph/DATASETS/DEMs/AW3D30_E/'\n",
    "fs = dirlistfiles(path, 'tif', recursive=True)\n",
    "txti = os.path.join(roi_path,f'{name}.txt')\n",
    "vrti = txti.replace('.txt','.vrt')\n",
    "txti = os.path.join(roi_path,f'{name}.txt')\n",
    "vrti = txti.replace('.txt','.vrt')\n",
    "\n",
    "writepath2txt(txti, fs)\n",
    "time.sleep(0.1)\n",
    "buildVRT_bytxt(txti, vrti)"
   ]
  },
  {
   "attachments": {},
   "cell_type": "markdown",
   "metadata": {},
   "source": [
    "## NASA_H"
   ]
  },
  {
   "cell_type": "code",
   "execution_count": 59,
   "metadata": {},
   "outputs": [
    {
     "name": "stdout",
     "output_type": "stream",
     "text": [
      "subdirectiries included\n",
      "1788\n",
      "0...10...20...30...40...50...60...70...80...90...100 - done.\n",
      "done!!\n"
     ]
    }
   ],
   "source": [
    "\n",
    "name = 'NASA_H'\n",
    "path =  '/media/ljp238/6tb/Joseph/DATASETS/DEMs/NASADEM/'\n",
    "fs = dirlistfiles(path, 'tif', recursive=True)\n",
    "txti = os.path.join(roi_path,f'{name}.txt')\n",
    "vrti = txti.replace('.txt','.vrt')\n",
    "txti = os.path.join(roi_path,f'{name}.txt')\n",
    "vrti = txti.replace('.txt','.vrt')\n",
    "\n",
    "writepath2txt(txti, fs)\n",
    "time.sleep(0.1)\n",
    "buildVRT_bytxt(txti, vrti)"
   ]
  },
  {
   "attachments": {},
   "cell_type": "markdown",
   "metadata": {},
   "source": [
    "## NASA_h : Rolf's source"
   ]
  },
  {
   "attachments": {},
   "cell_type": "markdown",
   "metadata": {},
   "source": [
    "# TDX FNF"
   ]
  },
  {
   "cell_type": "code",
   "execution_count": 60,
   "metadata": {},
   "outputs": [
    {
     "name": "stdout",
     "output_type": "stream",
     "text": [
      "subdirectiries included\n",
      "40\n",
      "30\n",
      "20\n",
      "10\n",
      "0...10...20...30...40...50...60...70...80...90...100 - done.\n",
      "done!!\n"
     ]
    }
   ],
   "source": [
    "name = 'TDX_FNF'\n",
    "path = '/media/ljp238/6tb/Joseph/DATASETS/TDX_FOREST/'\n",
    "fs = dirlistfiles(path, 'tiff', recursive=True)\n",
    "fs = [i for i in fs if not 'COV.tiff' in i]; print(len(fs))\n",
    "fs = [i for i in fs if not 'SPC.tiff' in i]; print(len(fs))\n",
    "fs = [i for i in fs if not 'SPD.tiff' in i]; print(len(fs))\n",
    "txti = os.path.join(roi_path,f'{name}.txt')\n",
    "vrti = txti.replace('.txt','.vrt')\n",
    "txti = os.path.join(roi_path,f'{name}.txt')\n",
    "vrti = txti.replace('.txt','.vrt')\n",
    "\n",
    "writepath2txt(txti, fs)\n",
    "time.sleep(0.1)\n",
    "buildVRT_bytxt(txti, vrti)"
   ]
  },
  {
   "attachments": {},
   "cell_type": "markdown",
   "metadata": {},
   "source": [
    "# ESA WC"
   ]
  },
  {
   "cell_type": "code",
   "execution_count": 61,
   "metadata": {},
   "outputs": [
    {
     "name": "stdout",
     "output_type": "stream",
     "text": [
      "subdirectiries included\n",
      "2647\n",
      "0...10...20...30...40...50...60...70...80...90...100 - done.\n",
      "done!!\n"
     ]
    }
   ],
   "source": [
    "name = 'WC'\n",
    "path = '/media/ljp238/6tb/Joseph/DATASETS/ESA_WC2021/esa_worldcover2021/'\n",
    "fs = dirlistfiles(path, 'tif', recursive=True)\n",
    "txti = os.path.join(roi_path,f'{name}.txt')\n",
    "vrti = txti.replace('.txt','.vrt')\n",
    "\n",
    "writepath2txt(txti, fs)\n",
    "time.sleep(0.1)\n",
    "buildVRT_bytxt(txti, vrti)"
   ]
  },
  {
   "attachments": {},
   "cell_type": "markdown",
   "metadata": {},
   "source": [
    "## ETH_M"
   ]
  },
  {
   "cell_type": "code",
   "execution_count": 62,
   "metadata": {},
   "outputs": [
    {
     "name": "stdout",
     "output_type": "stream",
     "text": [
      "subdirectiries included\n",
      "2591\n",
      "0...10...20...30...40...50...60...70...80...90...100 - done.\n",
      "done!!\n"
     ]
    }
   ],
   "source": [
    "name = 'ETHm'\n",
    "path ='/media/ljp238/6tb/Joseph/DATASETS/ETH_GCHM2020_10m/map/'\n",
    "fs = dirlistfiles(path, 'tif', recursive=True)\n",
    "txti = os.path.join(roi_path,f'{name}.txt')\n",
    "vrti = txti.replace('.txt','.vrt')\n",
    "\n",
    "writepath2txt(txti, fs)\n",
    "time.sleep(0.1)\n",
    "buildVRT_bytxt(txti, vrti)"
   ]
  },
  {
   "attachments": {},
   "cell_type": "markdown",
   "metadata": {},
   "source": [
    "## ETH_S"
   ]
  },
  {
   "cell_type": "code",
   "execution_count": 63,
   "metadata": {},
   "outputs": [
    {
     "name": "stdout",
     "output_type": "stream",
     "text": [
      "subdirectiries included\n",
      "2650\n",
      "0...10...20...30...40...50...60...70...80...90...100 - done.\n",
      "done!!\n"
     ]
    }
   ],
   "source": [
    "name = 'ETHs'\n",
    "path ='/media/ljp238/6tb/Joseph/DATASETS/ETH_GCHM2020_10m/std/'\n",
    "fs = dirlistfiles(path, 'tif', recursive=True)\n",
    "txti = os.path.join(roi_path,f'{name}.txt')\n",
    "vrti = txti.replace('.txt','.vrt')\n",
    "\n",
    "writepath2txt(txti, fs)\n",
    "time.sleep(0.1)\n",
    "buildVRT_bytxt(txti, vrti)"
   ]
  },
  {
   "attachments": {},
   "cell_type": "markdown",
   "metadata": {},
   "source": [
    "## GWSf2019"
   ]
  },
  {
   "cell_type": "code",
   "execution_count": 64,
   "metadata": {},
   "outputs": [
    {
     "name": "stdout",
     "output_type": "stream",
     "text": [
      "subdirectiries included\n",
      "5032\n",
      "0...10...20...30...40...50...60...70...80...90...100 - done.\n",
      "done!!\n"
     ]
    }
   ],
   "source": [
    "\n",
    "path = '/media/ljp238/6tb/Joseph/DATASETS/GWSF2019/tifs/'\n",
    "name = 'WSF'\n",
    "fs = dirlistfiles(path, 'tif', recursive=True)\n",
    "txti = os.path.join(roi_path,f'{name}.txt')\n",
    "vrti = txti.replace('.txt','.vrt')\n",
    "\n",
    "writepath2txt(txti, fs)\n",
    "time.sleep(0.1)\n",
    "buildVRT_bytxt(txti, vrti)"
   ]
  },
  {
   "attachments": {},
   "cell_type": "markdown",
   "metadata": {},
   "source": [
    "# S1"
   ]
  },
  {
   "cell_type": "code",
   "execution_count": 65,
   "metadata": {},
   "outputs": [
    {
     "name": "stdout",
     "output_type": "stream",
     "text": [
      "subdirectiries included\n",
      "6264\n",
      "0...10...20...30...40...50...60...70...80...90...100 - done.\n",
      "done!!\n"
     ]
    }
   ],
   "source": [
    "\n",
    "path = '/media/ljp238/6tb/Joseph/DATASETS/SATIMG/SENTINEL1/'\n",
    "name = 'S1'\n",
    "fs = dirlistfiles(path, 'tif', recursive=True)\n",
    "txti = os.path.join(roi_path,f'{name}.txt')\n",
    "vrti = txti.replace('.txt','.vrt')\n",
    "\n",
    "writepath2txt(txti, fs)\n",
    "time.sleep(0.1)\n",
    "buildVRT_bytxt(txti, vrti)"
   ]
  },
  {
   "attachments": {},
   "cell_type": "markdown",
   "metadata": {},
   "source": [
    "## S2"
   ]
  },
  {
   "cell_type": "code",
   "execution_count": 66,
   "metadata": {},
   "outputs": [
    {
     "name": "stdout",
     "output_type": "stream",
     "text": [
      "subdirectiries included\n",
      "6256\n",
      "0...10...20...30...40...50...60...70...80...90...100 - done.\n",
      "done!!\n"
     ]
    }
   ],
   "source": [
    "path = '/media/ljp238/6tb/Joseph/DATASETS/SATIMG/SENTINEL2/'\n",
    "name = 'S2'\n",
    "fs = dirlistfiles(path, 'tif', recursive=True)\n",
    "txti = os.path.join(roi_path,f'{name}.txt')\n",
    "vrti = txti.replace('.txt','.vrt')\n",
    "\n",
    "writepath2txt(txti, fs)\n",
    "time.sleep(0.1)\n",
    "buildVRT_bytxt(txti, vrti)"
   ]
  },
  {
   "cell_type": "code",
   "execution_count": null,
   "metadata": {},
   "outputs": [],
   "source": []
  }
 ],
 "metadata": {
  "kernelspec": {
   "display_name": "automl",
   "language": "python",
   "name": "automl"
  },
  "language_info": {
   "codemirror_mode": {
    "name": "ipython",
    "version": 3
   },
   "file_extension": ".py",
   "mimetype": "text/x-python",
   "name": "python",
   "nbconvert_exporter": "python",
   "pygments_lexer": "ipython3",
   "version": "3.8.15"
  },
  "orig_nbformat": 4
 },
 "nbformat": 4,
 "nbformat_minor": 2
}
