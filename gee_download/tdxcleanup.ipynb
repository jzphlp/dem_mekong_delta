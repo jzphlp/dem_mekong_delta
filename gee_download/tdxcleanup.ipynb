{
 "cells": [
  {
   "cell_type": "code",
   "execution_count": 23,
   "metadata": {},
   "outputs": [],
   "source": [
    "import os \n",
    "import sys \n",
    "import warnings\n",
    "import numpy as np \n",
    "import scipy.ndimage as ndimage\n",
    "from UtilsFunc import dirlistfiles, gdal_edit_ndv\n",
    "\n",
    "from glob import glob \n",
    "from pygeotools.lib import iolib\n",
    "from osgeo import gdal\n",
    "from scipy import stats\n",
    "\n",
    "warnings.filterwarnings('ignore')\n",
    "\n",
    "\n",
    "\n",
    "def get_itemfromlist(fs, K):\n",
    "    f = [i for i in fs if K in i]\n",
    "    print(f[0])\n",
    "    return f[0]"
   ]
  },
  {
   "cell_type": "code",
   "execution_count": 24,
   "metadata": {},
   "outputs": [
    {
     "name": "stdout",
     "output_type": "stream",
     "text": [
      "subdirectiries included\n",
      "26\n"
     ]
    }
   ],
   "source": [
    "tile_path = '/media/ljp238/6tb/Joseph/DATASETS/OUT_TILES/1x1degree/N10_E105/'\n",
    "fs = dirlistfiles(tile_path,'tif', True)"
   ]
  },
  {
   "cell_type": "code",
   "execution_count": 25,
   "metadata": {},
   "outputs": [
    {
     "name": "stdout",
     "output_type": "stream",
     "text": [
      "/media/ljp238/6tb/Joseph/DATASETS/OUT_TILES/1x1degree/N10_E105/N10_E105_TDX_DEM.tif\n",
      "/media/ljp238/6tb/Joseph/DATASETS/OUT_TILES/1x1degree/N10_E105/N10_E105_TDX_COM.tif\n",
      "/media/ljp238/6tb/Joseph/DATASETS/OUT_TILES/1x1degree/N10_E105/N10_E105_COP_WBM.tif\n"
     ]
    }
   ],
   "source": [
    "tdxdem_path = get_itemfromlist(fs, 'TDX_DEM.tif')\n",
    "tdxcom_path = get_itemfromlist(fs, 'TDX_COM.tif')\n",
    "copwbm_path = get_itemfromlist(fs, 'COP_WBM.tif')\n",
    "\n",
    "\n"
   ]
  },
  {
   "cell_type": "code",
   "execution_count": 27,
   "metadata": {},
   "outputs": [],
   "source": [
    "def tdx_noise_removal(tdxdem_path, tdxcom_path, copwbm_path):\n",
    "    ndv_vals =-32767.\n",
    "    ndv_msks = 0.0 \n",
    "\n",
    "    print('Applying ndv')\n",
    "    gdal_edit_ndv(copwbm_path, ndv_msks)\n",
    "    gdal_edit_ndv(tdxcom_path, ndv_msks)\n",
    "    gdal_edit_ndv(tdxdem_path, ndv_vals)\n",
    "\n",
    "    print('Applying mask for DEM')\n",
    "    dem_fn = tdxdem_path #glob.glob(os.path.join(tiledir, 'DEM/*DEM.tif'))[0]\n",
    "    print(dem_fn)\n",
    "    dem_ds = iolib.fn_getds(dem_fn)\n",
    "    dem = iolib.ds_getma(dem_ds)\n",
    "    print(dem.count())\n",
    "    #Get original mask, True where masked\n",
    "    mask = np.ma.getmaskarray(dem) \n",
    "\n",
    "    print('Applying mask for WBM')\n",
    "    wbm = iolib.fn_getma(copwbm_path)\n",
    "    wbm_invalid = (1,2,3)\n",
    "    mask = np.logical_or(mask, np.isin(wbm.data, wbm_invalid))\n",
    "\n",
    "    print('Applying mask for COM')\n",
    "    com_fn = tdxcom_path#glob.glob(os.path.join(tiledir, 'AUXFILES/*COM.tif'))[0]\n",
    "    com = iolib.fn_getma(com_fn)\n",
    "    com_valid = (8,9,10)\n",
    "    #4 is only one obs\n",
    "    #com_invalid = (0,1,4)\n",
    "    com_invalid = (0,1)\n",
    "    mask = np.logical_or(mask, np.isin(com.data, com_invalid))\n",
    "\n",
    "    print('Applying mask filter for TDX')\n",
    "    dem_masked = np.ma.array(dem, mask=mask)\n",
    "    print(dem_masked.count())\n",
    "\n",
    "    tif_masked = tdxdem_path.replace('.tif', '_masked.tif')\n",
    "    iolib.writeGTiff(dem_masked, tif_masked, dem_ds)\n",
    "\n",
    "    print('Applying morphological mask filter for TDX')\n",
    "    n_iter = 1\n",
    "    mask = ndimage.morphology.binary_dilation(mask, iterations=n_iter)\n",
    "    #To keep valid edges, do subsequent erosion \n",
    "    mask = ndimage.morphology.binary_erosion(mask, iterations=n_iter)\n",
    "    #(dilation of inverted mask, to avoid maasking outer edge)\n",
    "    #mask = ~(ndimage.morphology.binary_dilation(~mask, iterations=n_iter))\n",
    "    tif_erode = tdxdem_path.replace('.tif', '_erode.tif')\n",
    "    iolib.writeGTiff(dem_masked, tif_erode, dem_ds)\n",
    "    gdal_edit_ndv(tif_erode, -9999.)\n",
    "    gdal_edit_ndv(tif_masked, -9999.)\n",
    "\n",
    "    return tif_erode, tif_masked\n",
    "\n",
    "\n",
    "    \n"
   ]
  },
  {
   "cell_type": "code",
   "execution_count": 28,
   "metadata": {},
   "outputs": [
    {
     "name": "stdout",
     "output_type": "stream",
     "text": [
      "Applying ndv\n",
      "Applying mask for DEM\n",
      "/media/ljp238/6tb/Joseph/DATASETS/OUT_TILES/1x1degree/N10_E105/N10_E105_TDX_DEM.tif\n",
      "80230518\n",
      "Applying mask for WBM\n",
      "Applying mask for COM\n",
      "Applying mask filter for TDX\n",
      "76442881\n"
     ]
    },
    {
     "name": "stderr",
     "output_type": "stream",
     "text": [
      "Warning 1: PROJ: proj_create_from_database: Open of /home/ljp238/miniconda3/envs/automl/share/proj failed\n",
      "ERROR 1: PROJ: proj_create_from_name: Open of /home/ljp238/miniconda3/envs/automl/share/proj failed\n"
     ]
    },
    {
     "name": "stdout",
     "output_type": "stream",
     "text": [
      "Applying morphological mask filter for TDX\n"
     ]
    },
    {
     "name": "stderr",
     "output_type": "stream",
     "text": [
      "ERROR 1: PROJ: proj_create_from_name: Open of /home/ljp238/miniconda3/envs/automl/share/proj failed\n"
     ]
    }
   ],
   "source": [
    "tif_erode, tif_masked = tdx_noise_removal(tdxdem_path, tdxcom_path, copwbm_path)"
   ]
  },
  {
   "cell_type": "code",
   "execution_count": 29,
   "metadata": {},
   "outputs": [],
   "source": [
    "fpath = '/media/ljp238/6tb/Joseph/DATASETS/Mekong/delta_s_m2070.tif'"
   ]
  },
  {
   "cell_type": "code",
   "execution_count": 31,
   "metadata": {},
   "outputs": [],
   "source": [
    "from UtilsTiling import *"
   ]
  },
  {
   "cell_type": "code",
   "execution_count": 32,
   "metadata": {},
   "outputs": [
    {
     "data": {
      "text/plain": [
       "-3.4028230607370965e+38"
      ]
     },
     "execution_count": 32,
     "metadata": {},
     "output_type": "execute_result"
    }
   ],
   "source": [
    "get_geotiff_nodatavalue(fpath)\n"
   ]
  },
  {
   "cell_type": "code",
   "execution_count": null,
   "metadata": {},
   "outputs": [],
   "source": []
  }
 ],
 "metadata": {
  "kernelspec": {
   "display_name": "automl",
   "language": "python",
   "name": "automl"
  },
  "language_info": {
   "codemirror_mode": {
    "name": "ipython",
    "version": 3
   },
   "file_extension": ".py",
   "mimetype": "text/x-python",
   "name": "python",
   "nbconvert_exporter": "python",
   "pygments_lexer": "ipython3",
   "version": "3.8.15"
  },
  "orig_nbformat": 4
 },
 "nbformat": 4,
 "nbformat_minor": 2
}
