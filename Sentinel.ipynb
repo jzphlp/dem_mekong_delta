{
 "cells": [
  {
   "cell_type": "code",
   "execution_count": 1,
   "metadata": {},
   "outputs": [],
   "source": [
    "import ee \n",
    "import os \n",
    "import geemap\n",
    "import geopandas as gpd \n",
    "import numpy as np\n",
    "import time\n",
    "\n",
    "from glob import glob\n",
    "try:\n",
    "    ee.Initialize(opt_url='https://earthengine-highvolume.googleapis.com')\n",
    "except:\n",
    "    ee.Authenticate()\n",
    "    ee.Initialize(opt_url='https://earthengine-highvolume.googleapis.com')\n"
   ]
  },
  {
   "cell_type": "code",
   "execution_count": 2,
   "metadata": {},
   "outputs": [
    {
     "data": {
      "text/plain": [
       "['N10_E104_TANDEMX.gpkg',\n",
       " 'N10_E105_TANDEMX.gpkg',\n",
       " 'N10_E106_TANDEMX.gpkg',\n",
       " 'N09_E105_TANDEMX.gpkg',\n",
       " 'N09_E106_TANDEMX.gpkg']"
      ]
     },
     "execution_count": 2,
     "metadata": {},
     "output_type": "execute_result"
    }
   ],
   "source": [
    "gpkg_path = '/media/ljp238/6tb/Joseph/DATASETS/mekong_delta_data_tiles/wdir/1x1degree/gpkg_patches'\n",
    "gpkg_files = glob(f'{gpkg_path}/*.gpkg')\n",
    "os.listdir(gpkg_path)"
   ]
  },
  {
   "cell_type": "code",
   "execution_count": 3,
   "metadata": {},
   "outputs": [],
   "source": [
    "i = 0\n",
    "gfile = gpkg_files[i]\n",
    "g = gpd.read_file(gfile)\n",
    "g[['minx','miny','maxx','maxy']] = g.bounds"
   ]
  },
  {
   "cell_type": "code",
   "execution_count": 4,
   "metadata": {},
   "outputs": [],
   "source": [
    "def get_ee_geometry(i, g):\n",
    "    ig = g.iloc[i:i+1,]\n",
    "    bBox = [float(ig.minx), float(ig.miny), float(ig.maxx), float(ig.maxy)]\n",
    "    fname = (os.path.basename(ig.location.values[0])).replace('..tif', '_S1.tif')\n",
    "    region = ee.Geometry.Rectangle(bBox)\n",
    "    return region, fname\n",
    "\n",
    "def get_S1mosaic(aoi,pol='VV', opass='ASCENDING',idate='2019-01-01',fdate='2022-12-01'):\n",
    "    sentinel1 = ee.ImageCollection('COPERNICUS/S1_GRD') \\\n",
    "    .filter(ee.Filter.eq('instrumentMode','IW')) \\\n",
    "    .filterDate(idate,fdate).filter(ee.Filter.listContains('transmitterReceiverPolarisation', pol)) \\\n",
    "    .filter(ee.Filter.eq('orbitProperties_pass',opass)) \\\n",
    "    .filter(ee.Filter.eq('resolution_meters',10)) \\\n",
    "    .filterBounds(aoi)\\\n",
    "    # play with params and see what kind of data you  can get\n",
    "    s1img = ee.Image(sentinel1.mosaic().clip(aoi))\n",
    "    \n",
    "    return s1img\n",
    "\n",
    "\n",
    "def gee_download_geemap_s1(image,outpath, scale):\n",
    "    print(outpath)\n",
    "    if os.path.isfile(outpath):\n",
    "        print('Already downloaded') \n",
    "    else:\n",
    "        geemap.ee_export_image(image, outpath, scale=scale)\n",
    "\n",
    "def getS1patch(i,g,pol,S1tile_path,scale):\n",
    "    region, fname = get_ee_geometry(i, g)\n",
    "    s1img = get_S1mosaic(region, pol)\n",
    "    outpath = os.path.join(S1tile_path, fname)\n",
    "    gee_download_geemap_s1(s1img,outpath, scale)"
   ]
  },
  {
   "cell_type": "code",
   "execution_count": 5,
   "metadata": {},
   "outputs": [],
   "source": [
    "sentinel1_dir  ='/media/ljp238/6tb/Joseph/DATASETS/SATIMG/SENTINEL1/'\n",
    "tname = os.path.basename(gfile).replace('_TANDEMX.gpkg','')\n",
    "S1tile_path = os.path.join(sentinel1_dir, tname)\n",
    "os.makedirs(S1tile_path, exist_ok=True)"
   ]
  },
  {
   "cell_type": "code",
   "execution_count": 40,
   "metadata": {},
   "outputs": [
    {
     "name": "stdout",
     "output_type": "stream",
     "text": [
      "/media/ljp238/6tb/Joseph/DATASETS/SATIMG/SENTINEL1/N10_E104/tile_0_3584_S1.tif\n",
      "Generating URL ...\n",
      "Downloading data from https://earthengine-highvolume.googleapis.com/v1alpha/projects/earthengine-legacy/thumbnails/c390ad73b36d90e39a040163ef4004d6-5ea1055883c2d9aca42bfcbcb9b28eed:getPixels\n",
      "Please wait ...\n",
      "Data downloaded to /media/ljp238/6tb/Joseph/DATASETS/SATIMG/SENTINEL1/N10_E104/tile_0_3584_S1.tif\n"
     ]
    }
   ],
   "source": [
    "pol = 'VV'\n",
    "scale = 10\n",
    "i = 12\n",
    "\n",
    "getS1patch(i,g,pol,S1tile_path,scale)"
   ]
  },
  {
   "cell_type": "code",
   "execution_count": 16,
   "metadata": {},
   "outputs": [],
   "source": [
    "region, fname = get_ee_geometry(i, g)\n",
    "s1img = get_S1mosaic(region, 'VV')"
   ]
  },
  {
   "cell_type": "code",
   "execution_count": 35,
   "metadata": {},
   "outputs": [],
   "source": [
    "# band1:VV, VH, angle "
   ]
  },
  {
   "cell_type": "code",
   "execution_count": 17,
   "metadata": {},
   "outputs": [
    {
     "data": {
      "text/html": [
       "<div><style>:root {\n",
       "  --font-color-primary: var(--jp-content-font-color0, rgba(0, 0, 0, 1));\n",
       "  --font-color-secondary: var(--jp-content-font-color2, rgba(0, 0, 0, 0.6));\n",
       "  --font-color-accent: rgba(123, 31, 162, 1);\n",
       "  --border-color: var(--jp-border-color2, #e0e0e0);\n",
       "  --background-color: var(--jp-layout-color0, white);\n",
       "  --background-color-row-even: var(--jp-layout-color1, white);\n",
       "  --background-color-row-odd: var(--jp-layout-color2, #eeeeee);\n",
       "}\n",
       "\n",
       "html[theme=\"dark\"],\n",
       "body[data-theme=\"dark\"],\n",
       "body.vscode-dark {\n",
       "  --font-color-primary: rgba(255, 255, 255, 1);\n",
       "  --font-color-secondary: rgba(255, 255, 255, 0.6);\n",
       "  --font-color-accent: rgb(173, 132, 190);\n",
       "  --border-color: #2e2e2e;\n",
       "  --background-color: #111111;\n",
       "  --background-color-row-even: #111111;\n",
       "  --background-color-row-odd: #313131;\n",
       "}\n",
       "\n",
       ".ee {\n",
       "  padding: 1em;\n",
       "  line-height: 1.5em;\n",
       "  min-width: 300px;\n",
       "  max-width: 1200px;\n",
       "  overflow-y: scroll;\n",
       "  max-height: 600px;\n",
       "  border: 1px solid var(--border-color);\n",
       "  font-family: monospace;\n",
       "}\n",
       "\n",
       ".ee li {\n",
       "  list-style-type: none;\n",
       "}\n",
       "\n",
       ".ee ul {\n",
       "  padding-left: 1.5em !important;\n",
       "  margin: 0;\n",
       "}\n",
       "\n",
       ".ee > ul {\n",
       "  padding-left: 0 !important;\n",
       "}\n",
       "\n",
       ".ee-open,\n",
       ".ee-shut {\n",
       "  color: var(--font-color-secondary);\n",
       "  cursor: pointer;\n",
       "  margin: 0;\n",
       "}\n",
       "\n",
       ".ee-open:hover,\n",
       ".ee-shut:hover {\n",
       "  color: var(--font-color-primary);\n",
       "}\n",
       "\n",
       ".ee-k {\n",
       "  color: var(--font-color-accent);\n",
       "  margin-right: 6px;\n",
       "}\n",
       "\n",
       ".ee-v {\n",
       "  color: var(--font-color-primary);\n",
       "}\n",
       "\n",
       ".ee-toggle {\n",
       "  display: none;\n",
       "}\n",
       "\n",
       ".ee-shut + ul {\n",
       "  display: none;\n",
       "}\n",
       "\n",
       ".ee-open + ul {\n",
       "  display: block;\n",
       "}\n",
       "\n",
       ".ee-shut::before {\n",
       "  display: inline-block;\n",
       "  content: \"▼\";\n",
       "  margin-right: 6px;\n",
       "  transform: rotate(-90deg);\n",
       "  transition: transform 0.2s;\n",
       "}\n",
       "\n",
       ".ee-open::before {\n",
       "  transform: rotate(0deg);\n",
       "  display: inline-block;\n",
       "  content: \"▼\";\n",
       "  margin-right: 6px;\n",
       "  transition: transform 0.2s;\n",
       "}\n",
       "</style><div class='ee'><ul><li><label class='ee-shut'>Image (3 bands)<input type='checkbox' class='ee-toggle'></label><ul><li><span class='ee-k'>type:</span><span class='ee-v'>Image</span></li><li><label class='ee-shut'>bands: List (3 elements)<input type='checkbox' class='ee-toggle'></label><ul><li><label class='ee-shut'>0: \"VV\", double, EPSG:4326, 2x2 px<input type='checkbox' class='ee-toggle'></label><ul><li><span class='ee-k'>id:</span><span class='ee-v'>VV</span></li><li><span class='ee-k'>crs:</span><span class='ee-v'>EPSG:4326</span></li><li><label class='ee-shut'>crs_transform: [1, 0, 0, 0, 1, 0]<input type='checkbox' class='ee-toggle'></label><ul><li><span class='ee-k'>0:</span><span class='ee-v'>1</span></li><li><span class='ee-k'>1:</span><span class='ee-v'>0</span></li><li><span class='ee-k'>2:</span><span class='ee-v'>0</span></li><li><span class='ee-k'>3:</span><span class='ee-v'>0</span></li><li><span class='ee-k'>4:</span><span class='ee-v'>1</span></li><li><span class='ee-k'>5:</span><span class='ee-v'>0</span></li></ul></li><li><label class='ee-shut'>data_type: double<input type='checkbox' class='ee-toggle'></label><ul><li><span class='ee-k'>type:</span><span class='ee-v'>PixelType</span></li><li><span class='ee-k'>precision:</span><span class='ee-v'>double</span></li></ul></li><li><label class='ee-shut'>dimensions: [2, 2]<input type='checkbox' class='ee-toggle'></label><ul><li><span class='ee-k'>0:</span><span class='ee-v'>2</span></li><li><span class='ee-k'>1:</span><span class='ee-v'>2</span></li></ul></li><li><label class='ee-shut'>origin: [103, 10]<input type='checkbox' class='ee-toggle'></label><ul><li><span class='ee-k'>0:</span><span class='ee-v'>103</span></li><li><span class='ee-k'>1:</span><span class='ee-v'>10</span></li></ul></li></ul></li><li><label class='ee-shut'>1: \"VH\", double, EPSG:4326, 2x2 px<input type='checkbox' class='ee-toggle'></label><ul><li><span class='ee-k'>id:</span><span class='ee-v'>VH</span></li><li><span class='ee-k'>crs:</span><span class='ee-v'>EPSG:4326</span></li><li><label class='ee-shut'>crs_transform: [1, 0, 0, 0, 1, 0]<input type='checkbox' class='ee-toggle'></label><ul><li><span class='ee-k'>0:</span><span class='ee-v'>1</span></li><li><span class='ee-k'>1:</span><span class='ee-v'>0</span></li><li><span class='ee-k'>2:</span><span class='ee-v'>0</span></li><li><span class='ee-k'>3:</span><span class='ee-v'>0</span></li><li><span class='ee-k'>4:</span><span class='ee-v'>1</span></li><li><span class='ee-k'>5:</span><span class='ee-v'>0</span></li></ul></li><li><label class='ee-shut'>data_type: double<input type='checkbox' class='ee-toggle'></label><ul><li><span class='ee-k'>type:</span><span class='ee-v'>PixelType</span></li><li><span class='ee-k'>precision:</span><span class='ee-v'>double</span></li></ul></li><li><label class='ee-shut'>dimensions: [2, 2]<input type='checkbox' class='ee-toggle'></label><ul><li><span class='ee-k'>0:</span><span class='ee-v'>2</span></li><li><span class='ee-k'>1:</span><span class='ee-v'>2</span></li></ul></li><li><label class='ee-shut'>origin: [103, 10]<input type='checkbox' class='ee-toggle'></label><ul><li><span class='ee-k'>0:</span><span class='ee-v'>103</span></li><li><span class='ee-k'>1:</span><span class='ee-v'>10</span></li></ul></li></ul></li><li><label class='ee-shut'>2: \"angle\", float, EPSG:4326, 2x2 px<input type='checkbox' class='ee-toggle'></label><ul><li><span class='ee-k'>id:</span><span class='ee-v'>angle</span></li><li><span class='ee-k'>crs:</span><span class='ee-v'>EPSG:4326</span></li><li><label class='ee-shut'>crs_transform: [1, 0, 0, 0, 1, 0]<input type='checkbox' class='ee-toggle'></label><ul><li><span class='ee-k'>0:</span><span class='ee-v'>1</span></li><li><span class='ee-k'>1:</span><span class='ee-v'>0</span></li><li><span class='ee-k'>2:</span><span class='ee-v'>0</span></li><li><span class='ee-k'>3:</span><span class='ee-v'>0</span></li><li><span class='ee-k'>4:</span><span class='ee-v'>1</span></li><li><span class='ee-k'>5:</span><span class='ee-v'>0</span></li></ul></li><li><label class='ee-shut'>data_type: float<input type='checkbox' class='ee-toggle'></label><ul><li><span class='ee-k'>type:</span><span class='ee-v'>PixelType</span></li><li><span class='ee-k'>precision:</span><span class='ee-v'>float</span></li></ul></li><li><label class='ee-shut'>dimensions: [2, 2]<input type='checkbox' class='ee-toggle'></label><ul><li><span class='ee-k'>0:</span><span class='ee-v'>2</span></li><li><span class='ee-k'>1:</span><span class='ee-v'>2</span></li></ul></li><li><label class='ee-shut'>origin: [103, 10]<input type='checkbox' class='ee-toggle'></label><ul><li><span class='ee-k'>0:</span><span class='ee-v'>103</span></li><li><span class='ee-k'>1:</span><span class='ee-v'>10</span></li></ul></li></ul></li></ul></li><li><label class='ee-shut'>properties: Object (1 property)<input type='checkbox' class='ee-toggle'></label><ul><li><label class='ee-shut'>system:footprint: Polygon (5 vertices)<input type='checkbox' class='ee-toggle'></label><ul><li><span class='ee-k'>type:</span><span class='ee-v'>Polygon</span></li><li><label class='ee-shut'>coordinates: List (1 element)<input type='checkbox' class='ee-toggle'></label><ul><li><label class='ee-shut'>0: List (5 elements)<input type='checkbox' class='ee-toggle'></label><ul><li><label class='ee-shut'>0: [104, 10.630222222222223]<input type='checkbox' class='ee-toggle'></label><ul><li><span class='ee-k'>0:</span><span class='ee-v'>104</span></li><li><span class='ee-k'>1:</span><span class='ee-v'>10.630222222222223</span></li></ul></li><li><label class='ee-shut'>1: [104.02844444444445, 10.630222222222223]<input type='checkbox' class='ee-toggle'></label><ul><li><span class='ee-k'>0:</span><span class='ee-v'>104.02844444444445</span></li><li><span class='ee-k'>1:</span><span class='ee-v'>10.630222222222223</span></li></ul></li><li><label class='ee-shut'>2: [104.02844444444445, 10.658666666666667]<input type='checkbox' class='ee-toggle'></label><ul><li><span class='ee-k'>0:</span><span class='ee-v'>104.02844444444445</span></li><li><span class='ee-k'>1:</span><span class='ee-v'>10.658666666666667</span></li></ul></li><li><label class='ee-shut'>3: [104, 10.658666666666667]<input type='checkbox' class='ee-toggle'></label><ul><li><span class='ee-k'>0:</span><span class='ee-v'>104</span></li><li><span class='ee-k'>1:</span><span class='ee-v'>10.658666666666667</span></li></ul></li><li><label class='ee-shut'>4: [104, 10.630222222222223]<input type='checkbox' class='ee-toggle'></label><ul><li><span class='ee-k'>0:</span><span class='ee-v'>104</span></li><li><span class='ee-k'>1:</span><span class='ee-v'>10.630222222222223</span></li></ul></li></ul></li></ul></li></ul></li></ul></li></ul></li></ul></div><script>function toggleHeader() {\n",
       "    const parent = this.parentElement;\n",
       "    parent.className = parent.className === \"ee-open\" ? \"ee-shut\" : \"ee-open\";\n",
       "}\n",
       "\n",
       "for (let c of document.getElementsByClassName(\"ee-toggle\")) {\n",
       "    c.onclick = toggleHeader;\n",
       "}</script></div>"
      ],
      "text/plain": [
       "<ee.image.Image at 0x7f3b8764aa90>"
      ]
     },
     "execution_count": 17,
     "metadata": {},
     "output_type": "execute_result"
    }
   ],
   "source": [
    "s1img"
   ]
  },
  {
   "cell_type": "code",
   "execution_count": 37,
   "metadata": {},
   "outputs": [],
   "source": [
    "Map = geemap.Map()\n",
    "vis_params = {'min': -25, 'max': 0.3, 'gamma': 1.4,}\n",
    "Map.addLayer(s1img, vis_params, 'S1img')\n",
    "Map.centerObject(region, 14)\n",
    "#Map"
   ]
  },
  {
   "cell_type": "code",
   "execution_count": 32,
   "metadata": {},
   "outputs": [],
   "source": [
    "sentinel1_dir  ='/media/ljp238/6tb/Joseph/DATASETS/SATIMG/SENTINEL1/'\n",
    "tname = os.path.basename(gfile).replace('_TANDEMX.gpkg','')\n",
    "S1tile_path = os.path.join(sentinel1_dir, tname)\n",
    "os.makedirs(S1tile_path, exist_ok=True)"
   ]
  },
  {
   "cell_type": "code",
   "execution_count": 33,
   "metadata": {},
   "outputs": [
    {
     "data": {
      "text/plain": [
       "'/media/ljp238/6tb/Joseph/DATASETS/SATIMG/SENTINEL1/N10_E104/tile_0_3072_S1.tif'"
      ]
     },
     "execution_count": 33,
     "metadata": {},
     "output_type": "execute_result"
    }
   ],
   "source": [
    "\n",
    "outpath = os.path.join(S1tile_path, fname)\n",
    "scale=10\n",
    "outpath"
   ]
  },
  {
   "cell_type": "code",
   "execution_count": 34,
   "metadata": {},
   "outputs": [
    {
     "name": "stdout",
     "output_type": "stream",
     "text": [
      "/media/ljp238/6tb/Joseph/DATASETS/SATIMG/SENTINEL1/N10_E104/tile_0_3072_S1.tif\n",
      "Generating URL ...\n",
      "Downloading data from https://earthengine-highvolume.googleapis.com/v1alpha/projects/earthengine-legacy/thumbnails/7e3399833c200a635ce1de535a342234-e9a74cc3e39f372dc5bffd0cdee7f705:getPixels\n",
      "Please wait ...\n",
      "Data downloaded to /media/ljp238/6tb/Joseph/DATASETS/SATIMG/SENTINEL1/N10_E104/tile_0_3072_S1.tif\n"
     ]
    }
   ],
   "source": [
    "gee_download_geemap(s1img,outpath, scale)"
   ]
  },
  {
   "attachments": {},
   "cell_type": "markdown",
   "metadata": {},
   "source": [
    "# Sentinel 2"
   ]
  },
  {
   "cell_type": "code",
   "execution_count": 41,
   "metadata": {},
   "outputs": [],
   "source": [
    "def maskClouds(image):\n",
    "    qa = image.select('QA60')\n",
    "    cloudBitMask = int(2**10)\n",
    "    cirrusBitMask = int(2**11)\n",
    "    mask = qa.bitwiseAnd(cloudBitMask).eq(0) \\\n",
    "        .And(qa.bitwiseAnd(cirrusBitMask).eq(0))\n",
    "    return image.updateMask(mask).divide(10000)"
   ]
  },
  {
   "cell_type": "code",
   "execution_count": 60,
   "metadata": {},
   "outputs": [],
   "source": [
    "CLOUD_FILTER = 20\n",
    "def getS2img(region,CLOUD_FILTER=10,idate='2019-01-01',fdate='2022-12-01'):\n",
    "    s2col = ee.ImageCollection('COPERNICUS/S2_SR') \\\n",
    "              .filter(ee.Filter.lte('CLOUDY_PIXEL_PERCENTAGE', CLOUD_FILTER))\\\n",
    "             .filterBounds(region) \\\n",
    "             .filterDate(idate,) \\\n",
    "             .map(maskClouds)\n",
    "    \n",
    "    s2 = s2col.select('B4', 'B3', 'B2')\n",
    "    s2img = s2.median().clip(region)\n",
    "    \n",
    "    return s2img \n",
    "\n",
    "def get_ee_geometry(i, g, name):\n",
    "    ig = g.iloc[i:i+1,]\n",
    "    bBox = [float(ig.minx), float(ig.miny), float(ig.maxx), float(ig.maxy)]\n",
    "    fname = (os.path.basename(ig.location.values[0])).replace('..tif', f'_{name}.tif')\n",
    "    region = ee.Geometry.Rectangle(bBox)\n",
    "    return region, fname\n",
    "\n",
    "def getS2collection(region,CLOUD_FILTER=10):\n",
    "    s2coll = ee.ImageCollection('COPERNICUS/S2_SR') \\\n",
    "             .filterBounds(region) \\\n",
    "             .filterDate('2021', '2022') \\\n",
    "             .filter(ee.Filter.lte('CLOUDY_PIXEL_PERCENTAGE', CLOUD_FILTER))\n",
    "    \n",
    "    return s2coll \n",
    "\n",
    "def getS2_RGBmedian(region,CLOUD_FILTER=10):\n",
    "    s2coll = ee.ImageCollection('COPERNICUS/S2_SR') \\\n",
    "             .filterBounds(region) \\\n",
    "             .filterDate('2021', '2022') \\\n",
    "             .filter(ee.Filter.lte('CLOUDY_PIXEL_PERCENTAGE', CLOUD_FILTER))\n",
    "    \n",
    "\n",
    "    sentinel2_masked = s2coll.map(maskClouds)\n",
    "    rgb_bands = ['B4', 'B3', 'B2']\n",
    "    rgb = sentinel2_masked.select(rgb_bands).median().clip(region)\n",
    "    return rgb "
   ]
  },
  {
   "cell_type": "code",
   "execution_count": null,
   "metadata": {},
   "outputs": [],
   "source": [
    "def getS2RGBpatch(i,g,name,S2tile_path,scale):\n",
    "    region, fname = get_ee_geometry(i, g,name)\n",
    "    rgb = getS2_RGBmedian(region)\n",
    "    outpath = os.path.join(S2tile_path, fname)\n",
    "    gee_download_geemap(rgb,outpath, scale)\n",
    "    time.sleep(0.5)\n"
   ]
  },
  {
   "cell_type": "code",
   "execution_count": null,
   "metadata": {},
   "outputs": [],
   "source": [
    "def getS1patch(i,g,pol,name,S1tile_path,scale):\n",
    "    #if not os.path.isfile\n",
    "    region, fname = get_ee_geometry(i, g,name)\n",
    "    s1img = get_S1mosaic(region, pol)\n",
    "    outpath = os.path.join(S1tile_path, fname)\n",
    "    gee_download_geemap_s1(s1img,outpath, scale)\n",
    "    time.sleep(0.5)"
   ]
  },
  {
   "cell_type": "code",
   "execution_count": 61,
   "metadata": {},
   "outputs": [],
   "source": [
    "region, fname = get_ee_geometry(i,g,'RGB')\n",
    "rgb = getS2_RGBmedian(region)\n"
   ]
  },
  {
   "cell_type": "code",
   "execution_count": 62,
   "metadata": {},
   "outputs": [
    {
     "data": {
      "text/html": [
       "<div><style>:root {\n",
       "  --font-color-primary: var(--jp-content-font-color0, rgba(0, 0, 0, 1));\n",
       "  --font-color-secondary: var(--jp-content-font-color2, rgba(0, 0, 0, 0.6));\n",
       "  --font-color-accent: rgba(123, 31, 162, 1);\n",
       "  --border-color: var(--jp-border-color2, #e0e0e0);\n",
       "  --background-color: var(--jp-layout-color0, white);\n",
       "  --background-color-row-even: var(--jp-layout-color1, white);\n",
       "  --background-color-row-odd: var(--jp-layout-color2, #eeeeee);\n",
       "}\n",
       "\n",
       "html[theme=\"dark\"],\n",
       "body[data-theme=\"dark\"],\n",
       "body.vscode-dark {\n",
       "  --font-color-primary: rgba(255, 255, 255, 1);\n",
       "  --font-color-secondary: rgba(255, 255, 255, 0.6);\n",
       "  --font-color-accent: rgb(173, 132, 190);\n",
       "  --border-color: #2e2e2e;\n",
       "  --background-color: #111111;\n",
       "  --background-color-row-even: #111111;\n",
       "  --background-color-row-odd: #313131;\n",
       "}\n",
       "\n",
       ".ee {\n",
       "  padding: 1em;\n",
       "  line-height: 1.5em;\n",
       "  min-width: 300px;\n",
       "  max-width: 1200px;\n",
       "  overflow-y: scroll;\n",
       "  max-height: 600px;\n",
       "  border: 1px solid var(--border-color);\n",
       "  font-family: monospace;\n",
       "}\n",
       "\n",
       ".ee li {\n",
       "  list-style-type: none;\n",
       "}\n",
       "\n",
       ".ee ul {\n",
       "  padding-left: 1.5em !important;\n",
       "  margin: 0;\n",
       "}\n",
       "\n",
       ".ee > ul {\n",
       "  padding-left: 0 !important;\n",
       "}\n",
       "\n",
       ".ee-open,\n",
       ".ee-shut {\n",
       "  color: var(--font-color-secondary);\n",
       "  cursor: pointer;\n",
       "  margin: 0;\n",
       "}\n",
       "\n",
       ".ee-open:hover,\n",
       ".ee-shut:hover {\n",
       "  color: var(--font-color-primary);\n",
       "}\n",
       "\n",
       ".ee-k {\n",
       "  color: var(--font-color-accent);\n",
       "  margin-right: 6px;\n",
       "}\n",
       "\n",
       ".ee-v {\n",
       "  color: var(--font-color-primary);\n",
       "}\n",
       "\n",
       ".ee-toggle {\n",
       "  display: none;\n",
       "}\n",
       "\n",
       ".ee-shut + ul {\n",
       "  display: none;\n",
       "}\n",
       "\n",
       ".ee-open + ul {\n",
       "  display: block;\n",
       "}\n",
       "\n",
       ".ee-shut::before {\n",
       "  display: inline-block;\n",
       "  content: \"▼\";\n",
       "  margin-right: 6px;\n",
       "  transform: rotate(-90deg);\n",
       "  transition: transform 0.2s;\n",
       "}\n",
       "\n",
       ".ee-open::before {\n",
       "  transform: rotate(0deg);\n",
       "  display: inline-block;\n",
       "  content: \"▼\";\n",
       "  margin-right: 6px;\n",
       "  transition: transform 0.2s;\n",
       "}\n",
       "</style><div class='ee'><ul><li><label class='ee-shut'>Image (3 bands)<input type='checkbox' class='ee-toggle'></label><ul><li><span class='ee-k'>type:</span><span class='ee-v'>Image</span></li><li><label class='ee-shut'>bands: List (3 elements)<input type='checkbox' class='ee-toggle'></label><ul><li><label class='ee-shut'>0: \"B4\", float, EPSG:4326, 2x2 px<input type='checkbox' class='ee-toggle'></label><ul><li><span class='ee-k'>id:</span><span class='ee-v'>B4</span></li><li><span class='ee-k'>crs:</span><span class='ee-v'>EPSG:4326</span></li><li><label class='ee-shut'>crs_transform: [1, 0, 0, 0, 1, 0]<input type='checkbox' class='ee-toggle'></label><ul><li><span class='ee-k'>0:</span><span class='ee-v'>1</span></li><li><span class='ee-k'>1:</span><span class='ee-v'>0</span></li><li><span class='ee-k'>2:</span><span class='ee-v'>0</span></li><li><span class='ee-k'>3:</span><span class='ee-v'>0</span></li><li><span class='ee-k'>4:</span><span class='ee-v'>1</span></li><li><span class='ee-k'>5:</span><span class='ee-v'>0</span></li></ul></li><li><label class='ee-shut'>data_type: float<input type='checkbox' class='ee-toggle'></label><ul><li><span class='ee-k'>type:</span><span class='ee-v'>PixelType</span></li><li><span class='ee-k'>max:</span><span class='ee-v'>6.553500175476074</span></li><li><span class='ee-k'>min:</span><span class='ee-v'>0</span></li><li><span class='ee-k'>precision:</span><span class='ee-v'>float</span></li></ul></li><li><label class='ee-shut'>dimensions: [2, 2]<input type='checkbox' class='ee-toggle'></label><ul><li><span class='ee-k'>0:</span><span class='ee-v'>2</span></li><li><span class='ee-k'>1:</span><span class='ee-v'>2</span></li></ul></li><li><label class='ee-shut'>origin: [103, 10]<input type='checkbox' class='ee-toggle'></label><ul><li><span class='ee-k'>0:</span><span class='ee-v'>103</span></li><li><span class='ee-k'>1:</span><span class='ee-v'>10</span></li></ul></li></ul></li><li><label class='ee-shut'>1: \"B3\", float, EPSG:4326, 2x2 px<input type='checkbox' class='ee-toggle'></label><ul><li><span class='ee-k'>id:</span><span class='ee-v'>B3</span></li><li><span class='ee-k'>crs:</span><span class='ee-v'>EPSG:4326</span></li><li><label class='ee-shut'>crs_transform: [1, 0, 0, 0, 1, 0]<input type='checkbox' class='ee-toggle'></label><ul><li><span class='ee-k'>0:</span><span class='ee-v'>1</span></li><li><span class='ee-k'>1:</span><span class='ee-v'>0</span></li><li><span class='ee-k'>2:</span><span class='ee-v'>0</span></li><li><span class='ee-k'>3:</span><span class='ee-v'>0</span></li><li><span class='ee-k'>4:</span><span class='ee-v'>1</span></li><li><span class='ee-k'>5:</span><span class='ee-v'>0</span></li></ul></li><li><label class='ee-shut'>data_type: float<input type='checkbox' class='ee-toggle'></label><ul><li><span class='ee-k'>type:</span><span class='ee-v'>PixelType</span></li><li><span class='ee-k'>max:</span><span class='ee-v'>6.553500175476074</span></li><li><span class='ee-k'>min:</span><span class='ee-v'>0</span></li><li><span class='ee-k'>precision:</span><span class='ee-v'>float</span></li></ul></li><li><label class='ee-shut'>dimensions: [2, 2]<input type='checkbox' class='ee-toggle'></label><ul><li><span class='ee-k'>0:</span><span class='ee-v'>2</span></li><li><span class='ee-k'>1:</span><span class='ee-v'>2</span></li></ul></li><li><label class='ee-shut'>origin: [103, 10]<input type='checkbox' class='ee-toggle'></label><ul><li><span class='ee-k'>0:</span><span class='ee-v'>103</span></li><li><span class='ee-k'>1:</span><span class='ee-v'>10</span></li></ul></li></ul></li><li><label class='ee-shut'>2: \"B2\", float, EPSG:4326, 2x2 px<input type='checkbox' class='ee-toggle'></label><ul><li><span class='ee-k'>id:</span><span class='ee-v'>B2</span></li><li><span class='ee-k'>crs:</span><span class='ee-v'>EPSG:4326</span></li><li><label class='ee-shut'>crs_transform: [1, 0, 0, 0, 1, 0]<input type='checkbox' class='ee-toggle'></label><ul><li><span class='ee-k'>0:</span><span class='ee-v'>1</span></li><li><span class='ee-k'>1:</span><span class='ee-v'>0</span></li><li><span class='ee-k'>2:</span><span class='ee-v'>0</span></li><li><span class='ee-k'>3:</span><span class='ee-v'>0</span></li><li><span class='ee-k'>4:</span><span class='ee-v'>1</span></li><li><span class='ee-k'>5:</span><span class='ee-v'>0</span></li></ul></li><li><label class='ee-shut'>data_type: float<input type='checkbox' class='ee-toggle'></label><ul><li><span class='ee-k'>type:</span><span class='ee-v'>PixelType</span></li><li><span class='ee-k'>max:</span><span class='ee-v'>6.553500175476074</span></li><li><span class='ee-k'>min:</span><span class='ee-v'>0</span></li><li><span class='ee-k'>precision:</span><span class='ee-v'>float</span></li></ul></li><li><label class='ee-shut'>dimensions: [2, 2]<input type='checkbox' class='ee-toggle'></label><ul><li><span class='ee-k'>0:</span><span class='ee-v'>2</span></li><li><span class='ee-k'>1:</span><span class='ee-v'>2</span></li></ul></li><li><label class='ee-shut'>origin: [103, 10]<input type='checkbox' class='ee-toggle'></label><ul><li><span class='ee-k'>0:</span><span class='ee-v'>103</span></li><li><span class='ee-k'>1:</span><span class='ee-v'>10</span></li></ul></li></ul></li></ul></li><li><label class='ee-shut'>properties: Object (1 property)<input type='checkbox' class='ee-toggle'></label><ul><li><label class='ee-shut'>system:footprint: Polygon (5 vertices)<input type='checkbox' class='ee-toggle'></label><ul><li><span class='ee-k'>type:</span><span class='ee-v'>Polygon</span></li><li><label class='ee-shut'>coordinates: List (1 element)<input type='checkbox' class='ee-toggle'></label><ul><li><label class='ee-shut'>0: List (5 elements)<input type='checkbox' class='ee-toggle'></label><ul><li><label class='ee-shut'>0: [104, 10.573333333333334]<input type='checkbox' class='ee-toggle'></label><ul><li><span class='ee-k'>0:</span><span class='ee-v'>104</span></li><li><span class='ee-k'>1:</span><span class='ee-v'>10.573333333333334</span></li></ul></li><li><label class='ee-shut'>1: [104.02844444444445, 10.573333333333334]<input type='checkbox' class='ee-toggle'></label><ul><li><span class='ee-k'>0:</span><span class='ee-v'>104.02844444444445</span></li><li><span class='ee-k'>1:</span><span class='ee-v'>10.573333333333334</span></li></ul></li><li><label class='ee-shut'>2: [104.02844444444445, 10.601777777777778]<input type='checkbox' class='ee-toggle'></label><ul><li><span class='ee-k'>0:</span><span class='ee-v'>104.02844444444445</span></li><li><span class='ee-k'>1:</span><span class='ee-v'>10.601777777777778</span></li></ul></li><li><label class='ee-shut'>3: [104, 10.601777777777778]<input type='checkbox' class='ee-toggle'></label><ul><li><span class='ee-k'>0:</span><span class='ee-v'>104</span></li><li><span class='ee-k'>1:</span><span class='ee-v'>10.601777777777778</span></li></ul></li><li><label class='ee-shut'>4: [104, 10.573333333333334]<input type='checkbox' class='ee-toggle'></label><ul><li><span class='ee-k'>0:</span><span class='ee-v'>104</span></li><li><span class='ee-k'>1:</span><span class='ee-v'>10.573333333333334</span></li></ul></li></ul></li></ul></li></ul></li></ul></li></ul></li></ul></div><script>function toggleHeader() {\n",
       "    const parent = this.parentElement;\n",
       "    parent.className = parent.className === \"ee-open\" ? \"ee-shut\" : \"ee-open\";\n",
       "}\n",
       "\n",
       "for (let c of document.getElementsByClassName(\"ee-toggle\")) {\n",
       "    c.onclick = toggleHeader;\n",
       "}</script></div>"
      ],
      "text/plain": [
       "<ee.image.Image at 0x7f3b7efd8fd0>"
      ]
     },
     "execution_count": 62,
     "metadata": {},
     "output_type": "execute_result"
    }
   ],
   "source": [
    "rgb"
   ]
  },
  {
   "cell_type": "code",
   "execution_count": 64,
   "metadata": {},
   "outputs": [
    {
     "data": {
      "application/vnd.jupyter.widget-view+json": {
       "model_id": "f1595a3e9e514ce9a903f463839f39d8",
       "version_major": 2,
       "version_minor": 0
      },
      "text/plain": [
       "Map(bottom=986910.0, center=[10.587555654397661, 104.01422222223083], controls=(WidgetControl(options=['positi…"
      ]
     },
     "metadata": {},
     "output_type": "display_data"
    }
   ],
   "source": [
    "vis_rgb = {'min': 0, 'max': 0.3, 'gamma': 1.4,}\n",
    "Map.addLayer(rgb, vis_rgb, 'RGB')\n",
    "Map.centerObject(region, 12)\n",
    "Map"
   ]
  },
  {
   "cell_type": "code",
   "execution_count": null,
   "metadata": {},
   "outputs": [],
   "source": []
  }
 ],
 "metadata": {
  "kernelspec": {
   "display_name": "automl",
   "language": "python",
   "name": "automl"
  },
  "language_info": {
   "codemirror_mode": {
    "name": "ipython",
    "version": 3
   },
   "file_extension": ".py",
   "mimetype": "text/x-python",
   "name": "python",
   "nbconvert_exporter": "python",
   "pygments_lexer": "ipython3",
   "version": "3.8.15"
  },
  "orig_nbformat": 4
 },
 "nbformat": 4,
 "nbformat_minor": 2
}
